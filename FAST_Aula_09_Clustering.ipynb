{
  "cells": [
    {
      "cell_type": "markdown",
      "metadata": {
        "id": "view-in-github",
        "colab_type": "text"
      },
      "source": [
        "<a href=\"https://colab.research.google.com/github/NewtoNLN/BootCamp-ML/blob/main/FAST_Aula_09_Clustering.ipynb\" target=\"_parent\"><img src=\"https://colab.research.google.com/assets/colab-badge.svg\" alt=\"Open In Colab\"/></a>"
      ]
    },
    {
      "cell_type": "markdown",
      "id": "54077720",
      "metadata": {
        "id": "54077720"
      },
      "source": [
        "# Atividade Prática 1"
      ]
    },
    {
      "cell_type": "markdown",
      "id": "aac80fc7",
      "metadata": {
        "id": "aac80fc7"
      },
      "source": [
        "Nessa atividade iremos dar os primeiros passos \n",
        "para a tarefa de clustering (aprendizado não-supervisionado)\n",
        "é esperado que ao término dessa prática se tenha as seguintes habilidades:\n",
        "\n",
        "* Análise exploratória a partir de uma gráfico de dispersão;\n",
        "* Execução do algoritmo k-means através da lib sklearn;\n",
        "* Análise dos clusters gerados"
      ]
    },
    {
      "cell_type": "markdown",
      "id": "7826537d",
      "metadata": {
        "id": "7826537d"
      },
      "source": [
        "## passo 1: import das libs necessárias"
      ]
    },
    {
      "cell_type": "code",
      "execution_count": null,
      "id": "927de49b",
      "metadata": {
        "id": "927de49b"
      },
      "outputs": [],
      "source": [
        "import pandas as pd\n",
        "import numpy as np\n",
        "from sklearn.datasets import make_blobs\n",
        "import matplotlib.pyplot as plt\n",
        "from sklearn import metrics\n",
        "from sklearn.cluster import KMeans"
      ]
    },
    {
      "cell_type": "markdown",
      "id": "d9da12f5",
      "metadata": {
        "id": "d9da12f5"
      },
      "source": [
        "## passo 2: carregar o dataset"
      ]
    },
    {
      "cell_type": "markdown",
      "id": "3c7cade9",
      "metadata": {
        "id": "3c7cade9"
      },
      "source": [
        "Obs: iremos considerar X sendo nosso dataset e y_true o que seriam as classes dos dados"
      ]
    },
    {
      "cell_type": "code",
      "source": [
        "X, y_true = make_blobs(\n",
        "    n_samples=100, n_features=2, centers=4, cluster_std=0.4, random_state=0\n",
        ")\n",
        "\n",
        "# os dados foram carregados em um formato matricial numpy, \n",
        "# porém para facilitar as análises precisaremos converter para um\n",
        "# tipo pandas DataFrame\n",
        "X = pd.DataFrame(X)\n",
        "X"
      ],
      "metadata": {
        "colab": {
          "base_uri": "https://localhost:8080/",
          "height": 424
        },
        "id": "0ytXredkIPD2",
        "outputId": "3fd1de43-4996-4929-c169-d1a78026c785"
      },
      "id": "0ytXredkIPD2",
      "execution_count": null,
      "outputs": [
        {
          "output_type": "execute_result",
          "data": {
            "text/plain": [
              "           0         1\n",
              "0   0.771948  3.831534\n",
              "1  -1.765399  7.942280\n",
              "2   1.280685  4.352457\n",
              "3   1.038249  4.455052\n",
              "4   1.468386  4.784739\n",
              "..       ...       ...\n",
              "95 -1.690009  7.856326\n",
              "96 -1.569620  7.559640\n",
              "97 -1.554201  3.603219\n",
              "98 -0.879912  7.962951\n",
              "99 -0.044926  4.565235\n",
              "\n",
              "[100 rows x 2 columns]"
            ],
            "text/html": [
              "\n",
              "  <div id=\"df-329f6e34-323a-4dde-80b0-83941a6a2b69\">\n",
              "    <div class=\"colab-df-container\">\n",
              "      <div>\n",
              "<style scoped>\n",
              "    .dataframe tbody tr th:only-of-type {\n",
              "        vertical-align: middle;\n",
              "    }\n",
              "\n",
              "    .dataframe tbody tr th {\n",
              "        vertical-align: top;\n",
              "    }\n",
              "\n",
              "    .dataframe thead th {\n",
              "        text-align: right;\n",
              "    }\n",
              "</style>\n",
              "<table border=\"1\" class=\"dataframe\">\n",
              "  <thead>\n",
              "    <tr style=\"text-align: right;\">\n",
              "      <th></th>\n",
              "      <th>0</th>\n",
              "      <th>1</th>\n",
              "    </tr>\n",
              "  </thead>\n",
              "  <tbody>\n",
              "    <tr>\n",
              "      <th>0</th>\n",
              "      <td>0.771948</td>\n",
              "      <td>3.831534</td>\n",
              "    </tr>\n",
              "    <tr>\n",
              "      <th>1</th>\n",
              "      <td>-1.765399</td>\n",
              "      <td>7.942280</td>\n",
              "    </tr>\n",
              "    <tr>\n",
              "      <th>2</th>\n",
              "      <td>1.280685</td>\n",
              "      <td>4.352457</td>\n",
              "    </tr>\n",
              "    <tr>\n",
              "      <th>3</th>\n",
              "      <td>1.038249</td>\n",
              "      <td>4.455052</td>\n",
              "    </tr>\n",
              "    <tr>\n",
              "      <th>4</th>\n",
              "      <td>1.468386</td>\n",
              "      <td>4.784739</td>\n",
              "    </tr>\n",
              "    <tr>\n",
              "      <th>...</th>\n",
              "      <td>...</td>\n",
              "      <td>...</td>\n",
              "    </tr>\n",
              "    <tr>\n",
              "      <th>95</th>\n",
              "      <td>-1.690009</td>\n",
              "      <td>7.856326</td>\n",
              "    </tr>\n",
              "    <tr>\n",
              "      <th>96</th>\n",
              "      <td>-1.569620</td>\n",
              "      <td>7.559640</td>\n",
              "    </tr>\n",
              "    <tr>\n",
              "      <th>97</th>\n",
              "      <td>-1.554201</td>\n",
              "      <td>3.603219</td>\n",
              "    </tr>\n",
              "    <tr>\n",
              "      <th>98</th>\n",
              "      <td>-0.879912</td>\n",
              "      <td>7.962951</td>\n",
              "    </tr>\n",
              "    <tr>\n",
              "      <th>99</th>\n",
              "      <td>-0.044926</td>\n",
              "      <td>4.565235</td>\n",
              "    </tr>\n",
              "  </tbody>\n",
              "</table>\n",
              "<p>100 rows × 2 columns</p>\n",
              "</div>\n",
              "      <button class=\"colab-df-convert\" onclick=\"convertToInteractive('df-329f6e34-323a-4dde-80b0-83941a6a2b69')\"\n",
              "              title=\"Convert this dataframe to an interactive table.\"\n",
              "              style=\"display:none;\">\n",
              "        \n",
              "  <svg xmlns=\"http://www.w3.org/2000/svg\" height=\"24px\"viewBox=\"0 0 24 24\"\n",
              "       width=\"24px\">\n",
              "    <path d=\"M0 0h24v24H0V0z\" fill=\"none\"/>\n",
              "    <path d=\"M18.56 5.44l.94 2.06.94-2.06 2.06-.94-2.06-.94-.94-2.06-.94 2.06-2.06.94zm-11 1L8.5 8.5l.94-2.06 2.06-.94-2.06-.94L8.5 2.5l-.94 2.06-2.06.94zm10 10l.94 2.06.94-2.06 2.06-.94-2.06-.94-.94-2.06-.94 2.06-2.06.94z\"/><path d=\"M17.41 7.96l-1.37-1.37c-.4-.4-.92-.59-1.43-.59-.52 0-1.04.2-1.43.59L10.3 9.45l-7.72 7.72c-.78.78-.78 2.05 0 2.83L4 21.41c.39.39.9.59 1.41.59.51 0 1.02-.2 1.41-.59l7.78-7.78 2.81-2.81c.8-.78.8-2.07 0-2.86zM5.41 20L4 18.59l7.72-7.72 1.47 1.35L5.41 20z\"/>\n",
              "  </svg>\n",
              "      </button>\n",
              "      \n",
              "  <style>\n",
              "    .colab-df-container {\n",
              "      display:flex;\n",
              "      flex-wrap:wrap;\n",
              "      gap: 12px;\n",
              "    }\n",
              "\n",
              "    .colab-df-convert {\n",
              "      background-color: #E8F0FE;\n",
              "      border: none;\n",
              "      border-radius: 50%;\n",
              "      cursor: pointer;\n",
              "      display: none;\n",
              "      fill: #1967D2;\n",
              "      height: 32px;\n",
              "      padding: 0 0 0 0;\n",
              "      width: 32px;\n",
              "    }\n",
              "\n",
              "    .colab-df-convert:hover {\n",
              "      background-color: #E2EBFA;\n",
              "      box-shadow: 0px 1px 2px rgba(60, 64, 67, 0.3), 0px 1px 3px 1px rgba(60, 64, 67, 0.15);\n",
              "      fill: #174EA6;\n",
              "    }\n",
              "\n",
              "    [theme=dark] .colab-df-convert {\n",
              "      background-color: #3B4455;\n",
              "      fill: #D2E3FC;\n",
              "    }\n",
              "\n",
              "    [theme=dark] .colab-df-convert:hover {\n",
              "      background-color: #434B5C;\n",
              "      box-shadow: 0px 1px 3px 1px rgba(0, 0, 0, 0.15);\n",
              "      filter: drop-shadow(0px 1px 2px rgba(0, 0, 0, 0.3));\n",
              "      fill: #FFFFFF;\n",
              "    }\n",
              "  </style>\n",
              "\n",
              "      <script>\n",
              "        const buttonEl =\n",
              "          document.querySelector('#df-329f6e34-323a-4dde-80b0-83941a6a2b69 button.colab-df-convert');\n",
              "        buttonEl.style.display =\n",
              "          google.colab.kernel.accessAllowed ? 'block' : 'none';\n",
              "\n",
              "        async function convertToInteractive(key) {\n",
              "          const element = document.querySelector('#df-329f6e34-323a-4dde-80b0-83941a6a2b69');\n",
              "          const dataTable =\n",
              "            await google.colab.kernel.invokeFunction('convertToInteractive',\n",
              "                                                     [key], {});\n",
              "          if (!dataTable) return;\n",
              "\n",
              "          const docLinkHtml = 'Like what you see? Visit the ' +\n",
              "            '<a target=\"_blank\" href=https://colab.research.google.com/notebooks/data_table.ipynb>data table notebook</a>'\n",
              "            + ' to learn more about interactive tables.';\n",
              "          element.innerHTML = '';\n",
              "          dataTable['output_type'] = 'display_data';\n",
              "          await google.colab.output.renderOutput(dataTable, element);\n",
              "          const docLink = document.createElement('div');\n",
              "          docLink.innerHTML = docLinkHtml;\n",
              "          element.appendChild(docLink);\n",
              "        }\n",
              "      </script>\n",
              "    </div>\n",
              "  </div>\n",
              "  "
            ]
          },
          "metadata": {},
          "execution_count": 23
        }
      ]
    },
    {
      "cell_type": "markdown",
      "id": "a6082271",
      "metadata": {
        "id": "a6082271"
      },
      "source": [
        "## passo 3: análise exploratória do dataset"
      ]
    },
    {
      "cell_type": "code",
      "execution_count": null,
      "id": "45aa8663",
      "metadata": {
        "colab": {
          "base_uri": "https://localhost:8080/",
          "height": 319
        },
        "id": "45aa8663",
        "outputId": "5f9222a3-bdf3-4712-e7f2-06ad9236ba73"
      },
      "outputs": [
        {
          "output_type": "stream",
          "name": "stdout",
          "text": [
            "dimensões do dataset (exemplos, features):  (100, 2)\n",
            "\n",
            "dispersão dos dados:\n"
          ]
        },
        {
          "output_type": "display_data",
          "data": {
            "text/plain": [
              "<Figure size 432x288 with 1 Axes>"
            ],
            "image/png": "[encoded data removed]"
          },
          "metadata": {
            "needs_background": "light"
          }
        }
      ],
      "source": [
        "print(\"dimensões do dataset (exemplos, features): \", X.shape)\n",
        "\n",
        "print(\"\\ndispersão dos dados:\")\n",
        "\n",
        "plt.scatter(X[0], X[1])\n",
        "plt.show()"
      ]
    },
    {
      "cell_type": "markdown",
      "id": "eb778ec4",
      "metadata": {
        "id": "eb778ec4"
      },
      "source": [
        "## passo 4: execução do k-means"
      ]
    },
    {
      "cell_type": "code",
      "execution_count": null,
      "id": "e2ba113a",
      "metadata": {
        "colab": {
          "base_uri": "https://localhost:8080/"
        },
        "id": "e2ba113a",
        "outputId": "6670187c-90dc-4927-9756-4e16fb76b870"
      },
      "outputs": [
        {
          "output_type": "stream",
          "name": "stdout",
          "text": [
            "[[ 0.93588159  4.3205638 ]\n",
            " [-1.26414502  7.77811813]\n",
            " [ 2.00454873  0.9520213 ]\n",
            " [-1.48886624  3.07731162]]\n",
            "[0, 1, 0, 0, 0, 0, 3, 1, 0, 1, 1, 1, 1, 1, 1, 2, 2, 3, 3, 2, 0, 1, 3, 2, 0, 3, 3, 0, 2, 2, 2, 1, 2, 2, 3, 0, 1, 2, 1, 3, 0, 3, 1, 3, 3, 1, 2, 3, 0, 0, 0, 2, 3, 3, 3, 1, 1, 2, 2, 1, 1, 2, 2, 0, 2, 1, 3, 3, 2, 0, 1, 2, 0, 1, 0, 0, 3, 3, 2, 2, 2, 1, 3, 0, 2, 3, 2, 2, 0, 0, 0, 3, 0, 3, 3, 1, 1, 3, 1, 0]\n",
            "CPU times: user 132 ms, sys: 0 ns, total: 132 ms\n",
            "Wall time: 247 ms\n"
          ]
        }
      ],
      "source": [
        "%%time\n",
        "model = KMeans(n_clusters=4, random_state=0).fit(X)\n",
        "print(model.cluster_centers_)\n",
        "\n",
        "y_predict = model.labels_\n",
        "print(y_predict.tolist())"
      ]
    },
    {
      "cell_type": "code",
      "source": [
        ""
      ],
      "metadata": {
        "colab": {
          "base_uri": "https://localhost:8080/",
          "height": 170
        },
        "id": "0JyprtDiOA7B",
        "outputId": "0be86ca8-3f61-44ad-fba9-7741f002b44a"
      },
      "id": "0JyprtDiOA7B",
      "execution_count": null,
      "outputs": [
        {
          "output_type": "error",
          "ename": "TypeError",
          "evalue": "ignored",
          "traceback": [
            "\u001b[0;31m---------------------------------------------------------------------------\u001b[0m",
            "\u001b[0;31mTypeError\u001b[0m                                 Traceback (most recent call last)",
            "\u001b[0;32m<ipython-input-32-e5cc1f71b74f>\u001b[0m in \u001b[0;36m<module>\u001b[0;34m()\u001b[0m\n\u001b[0;32m----> 1\u001b[0;31m \u001b[0mmodel\u001b[0m\u001b[0;34m(\u001b[0m\u001b[0;36m1\u001b[0m\u001b[0;34m)\u001b[0m\u001b[0;34m\u001b[0m\u001b[0;34m\u001b[0m\u001b[0m\n\u001b[0m",
            "\u001b[0;31mTypeError\u001b[0m: 'KMeans' object is not callable"
          ]
        }
      ]
    },
    {
      "cell_type": "markdown",
      "source": [
        "## passo 5: avaliação do k-means"
      ],
      "metadata": {
        "id": "12XSzcej9Pmv"
      },
      "id": "12XSzcej9Pmv"
    },
    {
      "cell_type": "code",
      "source": [
        "sil = metrics.silhouette_score(X, y_predict, metric='euclidean')\n",
        "nmi = metrics.adjusted_mutual_info_score(y_true, y_predict)\n",
        "\n",
        "print(\"Silhueta: \", sil)\n",
        "print(\"NMI: \", nmi)\n",
        "\n",
        "# check como ficou o balanceamento\n",
        "_ = pd.DataFrame(y_predict).hist()\n",
        "plt.title('balanceamento dos grupos')\n",
        "plt.show()\n",
        "\n",
        "\n",
        "# plot de como ficou a clusterização\n",
        "\n",
        "\n",
        "plt.scatter(X.iloc[y_predict==0, 0], X.iloc[y_predict==0, 1 ], c='red')\n",
        "plt.scatter(X.iloc[y_predict==1, 0], X.iloc[y_predict==1, 1 ], c='blue')\n",
        "plt.scatter(X.iloc[y_predict==2, 0], X.iloc[y_predict==2, 1 ], c='green')\n",
        "plt.scatter(X.iloc[y_predict==3, 0], X.iloc[y_predict==3, 1 ], c='magenta')\n",
        "\n",
        "# [ALTERE AQUI] plote o gráfico de dispersão para o cluster 1 e atribua a cor vermelha\n",
        "# [ALTERE AQUI] plote o gráfico de dispersão para o cluster 2 e atribua a cor azul\n",
        "# [ALTERE AQUI] plote o gráfico de dispersão para o cluster 3 e atribua a cor verde\n",
        "# [ALTERE AQUI] plote o gráfico de dispersão para o cluster 4 e atribua a cor magenta\n",
        "\n",
        "# [ALTERE AQUI] plote o gráfico de dispersão para os centróides e atribua a cor amarela\n",
        "plt.title('Clustering')\n",
        "plt.xlabel('feature 1')\n",
        "plt.ylabel('feature 2')\n",
        "plt.show()"
      ],
      "metadata": {
        "id": "wpKM4giQ9TQY",
        "colab": {
          "base_uri": "https://localhost:8080/",
          "height": 595
        },
        "outputId": "fefdd393-b9fd-4555-bcc0-b88a8e0c5bb9"
      },
      "id": "wpKM4giQ9TQY",
      "execution_count": null,
      "outputs": [
        {
          "output_type": "stream",
          "name": "stdout",
          "text": [
            "Silhueta:  0.7697826124517921\n",
            "NMI:  1.0\n"
          ]
        },
        {
          "output_type": "display_data",
          "data": {
            "text/plain": [
              "<Figure size 432x288 with 1 Axes>"
            ],
            "image/png": "[encoded data removed]"
          },
          "metadata": {
            "needs_background": "light"
          }
        },
        {
          "output_type": "display_data",
          "data": {
            "text/plain": [
              "<Figure size 432x288 with 1 Axes>"
            ],
            "image/png": "[encoded data removed]"
          },
          "metadata": {
            "needs_background": "light"
          }
        }
      ]
    }
  ],
  "metadata": {
    "kernelspec": {
      "display_name": "Python 3 (ipykernel)",
      "language": "python",
      "name": "python3"
    },
    "language_info": {
      "codemirror_mode": {
        "name": "ipython",
        "version": 3
      },
      "file_extension": ".py",
      "mimetype": "text/x-python",
      "name": "python",
      "nbconvert_exporter": "python",
      "pygments_lexer": "ipython3",
      "version": "3.9.7"
    },
    "colab": {
      "name": "FAST - Aula 09 - Clustering.ipynb",
      "provenance": [],
      "collapsed_sections": [],
      "include_colab_link": true
    }
  },
  "nbformat": 4,
  "nbformat_minor": 5
}