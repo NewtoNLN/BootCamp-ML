{
  "nbformat": 4,
  "nbformat_minor": 0,
  "metadata": {
    "colab": {
      "name": "FAST - Aula 06 - Algoritmos de Classificação: Regressão Logística.ipynb",
      "provenance": [],
      "collapsed_sections": [],
      "include_colab_link": true
    },
    "kernelspec": {
      "name": "python3",
      "display_name": "Python 3"
    },
    "language_info": {
      "name": "python"
    }
  },
  "cells": [
    {
      "cell_type": "markdown",
      "metadata": {
        "id": "view-in-github",
        "colab_type": "text"
      },
      "source": [
        "<a href=\"https://colab.research.google.com/github/NewtoNLN/BootCamp-ML/blob/main/FAST_Aula_06_Algoritmos_de_Classifica%C3%A7%C3%A3o_Regress%C3%A3o_Log%C3%ADstica.ipynb\" target=\"_parent\"><img src=\"https://colab.research.google.com/assets/colab-badge.svg\" alt=\"Open In Colab\"/></a>"
      ]
    },
    {
      "cell_type": "markdown",
      "source": [
        "# Titanic - Machine Learning from Disaster\n",
        "O naufrágio do Titanic é um dos naufrágios mais famosos da história.\n",
        "\n",
        "Em 15 de abril de 1912, durante sua viagem inaugural, o amplamente considerado \"inafundável\" RMS Titanic afundou após colidir com um iceberg. Infelizmente, não havia botes salva-vidas suficientes para todos a bordo, resultando na morte de 1.502 dos 2.224 passageiros e tripulantes.\n",
        "\n",
        "Embora houvesse algum elemento de sorte envolvido na sobrevivência, parece que alguns grupos de pessoas tinham mais probabilidade de sobreviver do que outros.\n",
        "\n",
        "Neste desafio de kaggle, pedimos que você construa um modelo preditivo que responda à pergunta: \"que tipo de pessoa tem mais probabilidade de sobreviver?\" usando dados de passageiros (ou seja, nome, idade, sexo, classe socioeconômica, etc.).\n",
        "\n",
        "https://www.kaggle.com/c/titanic/overview \n",
        "\n"
      ],
      "metadata": {
        "id": "p21j0FhLMxm-"
      }
    },
    {
      "cell_type": "markdown",
      "source": [
        "## Objetivos de aprendizado:\n",
        "Depois de fazer este Colab, você saberá como:\n",
        "\n",
        "* Backpropagation\n",
        "* Regressão Logística\n",
        "* Regressão Logística com sklearn\n",
        "* Regressão Logística com Pytorch\n"
      ],
      "metadata": {
        "id": "OtBJciRQTU0u"
      }
    },
    {
      "cell_type": "markdown",
      "source": [
        "## Datasets\n",
        "\n",
        "Nesta competição, você terá acesso a dois conjuntos de dados semelhantes que incluem informações do passageiro, como nome, idade, sexo, classe socioeconômica, etc. Um conjunto de dados é intitulado `train.csv` e o outro é intitulado` test.csv` .\n",
        "\n",
        "Baixe os dados da competição deste site: [Kaggle: Titanic - Machine Learning from Disaster](https://www.kaggle.com/c/titanic/data)\n"
      ],
      "metadata": {
        "id": "FaOEzlBVRSZf"
      }
    },
    {
      "cell_type": "markdown",
      "source": [
        "## Chame as declarações de importação\n",
        "O seguinte codigo importa os modulos necessários"
      ],
      "metadata": {
        "id": "IefhRy6svuRa"
      }
    },
    {
      "cell_type": "code",
      "source": [
        "# Load the imports\n",
        "\n",
        "# This Python 3 environment comes with many helpful analytics libraries installed\n",
        "\n",
        "import os\n",
        "import numpy as np # linear algebra\n",
        "import pandas as pd # data processing, CSV file I/O (e.g. pd.read_csv)\n",
        "\n",
        "import seaborn as sns  # visualization tool\n",
        "import matplotlib\n",
        "import matplotlib.pyplot as plt\n",
        "%matplotlib inline\n",
        "\n",
        "import missingno as msno\n",
        "sns.set()\n",
        "\n",
        "[width, height] = matplotlib.rcParams['figure.figsize']\n",
        "if width < 10:\n",
        "    matplotlib.rcParams['figure.figsize'] = [width * 2.5, height]\n",
        "\n"
      ],
      "metadata": {
        "id": "noCJ_pDFvGuO"
      },
      "execution_count": null,
      "outputs": []
    },
    {
      "cell_type": "markdown",
      "source": [
        "## Analisis e exploração dos dados do dataset titanic\n",
        "*Lembrar: Precisa carregar o titanic.zip na raiz do projeto*"
      ],
      "metadata": {
        "id": "0XMKOxu913vU"
      }
    },
    {
      "cell_type": "code",
      "source": [
        "!unzip -n titanic.zip -d titanic\n",
        "\n",
        "for dirname, _, filenames in os.walk('./titanic'):\n",
        "    for filename in filenames:\n",
        "        print(os.path.join(dirname, filename))\n"
      ],
      "metadata": {
        "id": "cU9SGU9KJx5c",
        "colab": {
          "base_uri": "https://localhost:8080/"
        },
        "outputId": "3380b0f1-dbb6-4758-eada-a900ddc8a804"
      },
      "execution_count": null,
      "outputs": [
        {
          "output_type": "stream",
          "name": "stdout",
          "text": [
            "Archive:  titanic.zip\n",
            "  inflating: titanic/gender_submission.csv  \n",
            "  inflating: titanic/test.csv        \n",
            "  inflating: titanic/train.csv       \n",
            "./titanic/gender_submission.csv\n",
            "./titanic/test.csv\n",
            "./titanic/train.csv\n"
          ]
        }
      ]
    },
    {
      "cell_type": "code",
      "source": [
        "# Passo 1\n",
        "# Carrega os dados do dataset titanic empregando pandas (pd)\n",
        "# link: https://pandas.pydata.org/docs/reference/api/pandas.read_csv.html\n",
        "### COMENZAR O CODIGO AQUI ### \n",
        "train_data = pd.read_csv(\"./titanic/train.csv\")\n",
        "### TERMINA AQUI ###\n",
        "\n",
        "# Visualize as 15 primeiras linhas da tabela train_data\n",
        "# link: https://pandas.pydata.org/docs/reference/api/pandas.DataFrame.head.html?highlight=head#pandas.DataFrame.head\n",
        "### COMENZAR O CODIGO AQUI ### \n",
        "num_linhas = 15\n",
        "train_data.head(num_linhas)\n",
        "### TERMINA AQUI ###"
      ],
      "metadata": {
        "colab": {
          "base_uri": "https://localhost:8080/",
          "height": 824
        },
        "id": "ESvt7geizhPh",
        "outputId": "b63789ef-48ba-4777-ecef-ba27e60ce739"
      },
      "execution_count": null,
      "outputs": [
        {
          "output_type": "execute_result",
          "data": {
            "text/plain": [
              "    PassengerId  Survived  Pclass  \\\n",
              "0             1         0       3   \n",
              "1             2         1       1   \n",
              "2             3         1       3   \n",
              "3             4         1       1   \n",
              "4             5         0       3   \n",
              "5             6         0       3   \n",
              "6             7         0       1   \n",
              "7             8         0       3   \n",
              "8             9         1       3   \n",
              "9            10         1       2   \n",
              "10           11         1       3   \n",
              "11           12         1       1   \n",
              "12           13         0       3   \n",
              "13           14         0       3   \n",
              "14           15         0       3   \n",
              "\n",
              "                                                 Name     Sex   Age  SibSp  \\\n",
              "0                             Braund, Mr. Owen Harris    male  22.0      1   \n",
              "1   Cumings, Mrs. John Bradley (Florence Briggs Th...  female  38.0      1   \n",
              "2                              Heikkinen, Miss. Laina  female  26.0      0   \n",
              "3        Futrelle, Mrs. Jacques Heath (Lily May Peel)  female  35.0      1   \n",
              "4                            Allen, Mr. William Henry    male  35.0      0   \n",
              "5                                    Moran, Mr. James    male   NaN      0   \n",
              "6                             McCarthy, Mr. Timothy J    male  54.0      0   \n",
              "7                      Palsson, Master. Gosta Leonard    male   2.0      3   \n",
              "8   Johnson, Mrs. Oscar W (Elisabeth Vilhelmina Berg)  female  27.0      0   \n",
              "9                 Nasser, Mrs. Nicholas (Adele Achem)  female  14.0      1   \n",
              "10                    Sandstrom, Miss. Marguerite Rut  female   4.0      1   \n",
              "11                           Bonnell, Miss. Elizabeth  female  58.0      0   \n",
              "12                     Saundercock, Mr. William Henry    male  20.0      0   \n",
              "13                        Andersson, Mr. Anders Johan    male  39.0      1   \n",
              "14               Vestrom, Miss. Hulda Amanda Adolfina  female  14.0      0   \n",
              "\n",
              "    Parch            Ticket     Fare Cabin Embarked  \n",
              "0       0         A/5 21171   7.2500   NaN        S  \n",
              "1       0          PC 17599  71.2833   C85        C  \n",
              "2       0  STON/O2. 3101282   7.9250   NaN        S  \n",
              "3       0            113803  53.1000  C123        S  \n",
              "4       0            373450   8.0500   NaN        S  \n",
              "5       0            330877   8.4583   NaN        Q  \n",
              "6       0             17463  51.8625   E46        S  \n",
              "7       1            349909  21.0750   NaN        S  \n",
              "8       2            347742  11.1333   NaN        S  \n",
              "9       0            237736  30.0708   NaN        C  \n",
              "10      1           PP 9549  16.7000    G6        S  \n",
              "11      0            113783  26.5500  C103        S  \n",
              "12      0         A/5. 2151   8.0500   NaN        S  \n",
              "13      5            347082  31.2750   NaN        S  \n",
              "14      0            350406   7.8542   NaN        S  "
            ],
            "text/html": [
              "\n",
              "  <div id=\"df-289f7bc3-259f-440b-852d-148d88ceadd2\">\n",
              "    <div class=\"colab-df-container\">\n",
              "      <div>\n",
              "<style scoped>\n",
              "    .dataframe tbody tr th:only-of-type {\n",
              "        vertical-align: middle;\n",
              "    }\n",
              "\n",
              "    .dataframe tbody tr th {\n",
              "        vertical-align: top;\n",
              "    }\n",
              "\n",
              "    .dataframe thead th {\n",
              "        text-align: right;\n",
              "    }\n",
              "</style>\n",
              "<table border=\"1\" class=\"dataframe\">\n",
              "  <thead>\n",
              "    <tr style=\"text-align: right;\">\n",
              "      <th></th>\n",
              "      <th>PassengerId</th>\n",
              "      <th>Survived</th>\n",
              "      <th>Pclass</th>\n",
              "      <th>Name</th>\n",
              "      <th>Sex</th>\n",
              "      <th>Age</th>\n",
              "      <th>SibSp</th>\n",
              "      <th>Parch</th>\n",
              "      <th>Ticket</th>\n",
              "      <th>Fare</th>\n",
              "      <th>Cabin</th>\n",
              "      <th>Embarked</th>\n",
              "    </tr>\n",
              "  </thead>\n",
              "  <tbody>\n",
              "    <tr>\n",
              "      <th>0</th>\n",
              "      <td>1</td>\n",
              "      <td>0</td>\n",
              "      <td>3</td>\n",
              "      <td>Braund, Mr. Owen Harris</td>\n",
              "      <td>male</td>\n",
              "      <td>22.0</td>\n",
              "      <td>1</td>\n",
              "      <td>0</td>\n",
              "      <td>A/5 21171</td>\n",
              "      <td>7.2500</td>\n",
              "      <td>NaN</td>\n",
              "      <td>S</td>\n",
              "    </tr>\n",
              "    <tr>\n",
              "      <th>1</th>\n",
              "      <td>2</td>\n",
              "      <td>1</td>\n",
              "      <td>1</td>\n",
              "      <td>Cumings, Mrs. John Bradley (Florence Briggs Th...</td>\n",
              "      <td>female</td>\n",
              "      <td>38.0</td>\n",
              "      <td>1</td>\n",
              "      <td>0</td>\n",
              "      <td>PC 17599</td>\n",
              "      <td>71.2833</td>\n",
              "      <td>C85</td>\n",
              "      <td>C</td>\n",
              "    </tr>\n",
              "    <tr>\n",
              "      <th>2</th>\n",
              "      <td>3</td>\n",
              "      <td>1</td>\n",
              "      <td>3</td>\n",
              "      <td>Heikkinen, Miss. Laina</td>\n",
              "      <td>female</td>\n",
              "      <td>26.0</td>\n",
              "      <td>0</td>\n",
              "      <td>0</td>\n",
              "      <td>STON/O2. 3101282</td>\n",
              "      <td>7.9250</td>\n",
              "      <td>NaN</td>\n",
              "      <td>S</td>\n",
              "    </tr>\n",
              "    <tr>\n",
              "      <th>3</th>\n",
              "      <td>4</td>\n",
              "      <td>1</td>\n",
              "      <td>1</td>\n",
              "      <td>Futrelle, Mrs. Jacques Heath (Lily May Peel)</td>\n",
              "      <td>female</td>\n",
              "      <td>35.0</td>\n",
              "      <td>1</td>\n",
              "      <td>0</td>\n",
              "      <td>113803</td>\n",
              "      <td>53.1000</td>\n",
              "      <td>C123</td>\n",
              "      <td>S</td>\n",
              "    </tr>\n",
              "    <tr>\n",
              "      <th>4</th>\n",
              "      <td>5</td>\n",
              "      <td>0</td>\n",
              "      <td>3</td>\n",
              "      <td>Allen, Mr. William Henry</td>\n",
              "      <td>male</td>\n",
              "      <td>35.0</td>\n",
              "      <td>0</td>\n",
              "      <td>0</td>\n",
              "      <td>373450</td>\n",
              "      <td>8.0500</td>\n",
              "      <td>NaN</td>\n",
              "      <td>S</td>\n",
              "    </tr>\n",
              "    <tr>\n",
              "      <th>5</th>\n",
              "      <td>6</td>\n",
              "      <td>0</td>\n",
              "      <td>3</td>\n",
              "      <td>Moran, Mr. James</td>\n",
              "      <td>male</td>\n",
              "      <td>NaN</td>\n",
              "      <td>0</td>\n",
              "      <td>0</td>\n",
              "      <td>330877</td>\n",
              "      <td>8.4583</td>\n",
              "      <td>NaN</td>\n",
              "      <td>Q</td>\n",
              "    </tr>\n",
              "    <tr>\n",
              "      <th>6</th>\n",
              "      <td>7</td>\n",
              "      <td>0</td>\n",
              "      <td>1</td>\n",
              "      <td>McCarthy, Mr. Timothy J</td>\n",
              "      <td>male</td>\n",
              "      <td>54.0</td>\n",
              "      <td>0</td>\n",
              "      <td>0</td>\n",
              "      <td>17463</td>\n",
              "      <td>51.8625</td>\n",
              "      <td>E46</td>\n",
              "      <td>S</td>\n",
              "    </tr>\n",
              "    <tr>\n",
              "      <th>7</th>\n",
              "      <td>8</td>\n",
              "      <td>0</td>\n",
              "      <td>3</td>\n",
              "      <td>Palsson, Master. Gosta Leonard</td>\n",
              "      <td>male</td>\n",
              "      <td>2.0</td>\n",
              "      <td>3</td>\n",
              "      <td>1</td>\n",
              "      <td>349909</td>\n",
              "      <td>21.0750</td>\n",
              "      <td>NaN</td>\n",
              "      <td>S</td>\n",
              "    </tr>\n",
              "    <tr>\n",
              "      <th>8</th>\n",
              "      <td>9</td>\n",
              "      <td>1</td>\n",
              "      <td>3</td>\n",
              "      <td>Johnson, Mrs. Oscar W (Elisabeth Vilhelmina Berg)</td>\n",
              "      <td>female</td>\n",
              "      <td>27.0</td>\n",
              "      <td>0</td>\n",
              "      <td>2</td>\n",
              "      <td>347742</td>\n",
              "      <td>11.1333</td>\n",
              "      <td>NaN</td>\n",
              "      <td>S</td>\n",
              "    </tr>\n",
              "    <tr>\n",
              "      <th>9</th>\n",
              "      <td>10</td>\n",
              "      <td>1</td>\n",
              "      <td>2</td>\n",
              "      <td>Nasser, Mrs. Nicholas (Adele Achem)</td>\n",
              "      <td>female</td>\n",
              "      <td>14.0</td>\n",
              "      <td>1</td>\n",
              "      <td>0</td>\n",
              "      <td>237736</td>\n",
              "      <td>30.0708</td>\n",
              "      <td>NaN</td>\n",
              "      <td>C</td>\n",
              "    </tr>\n",
              "    <tr>\n",
              "      <th>10</th>\n",
              "      <td>11</td>\n",
              "      <td>1</td>\n",
              "      <td>3</td>\n",
              "      <td>Sandstrom, Miss. Marguerite Rut</td>\n",
              "      <td>female</td>\n",
              "      <td>4.0</td>\n",
              "      <td>1</td>\n",
              "      <td>1</td>\n",
              "      <td>PP 9549</td>\n",
              "      <td>16.7000</td>\n",
              "      <td>G6</td>\n",
              "      <td>S</td>\n",
              "    </tr>\n",
              "    <tr>\n",
              "      <th>11</th>\n",
              "      <td>12</td>\n",
              "      <td>1</td>\n",
              "      <td>1</td>\n",
              "      <td>Bonnell, Miss. Elizabeth</td>\n",
              "      <td>female</td>\n",
              "      <td>58.0</td>\n",
              "      <td>0</td>\n",
              "      <td>0</td>\n",
              "      <td>113783</td>\n",
              "      <td>26.5500</td>\n",
              "      <td>C103</td>\n",
              "      <td>S</td>\n",
              "    </tr>\n",
              "    <tr>\n",
              "      <th>12</th>\n",
              "      <td>13</td>\n",
              "      <td>0</td>\n",
              "      <td>3</td>\n",
              "      <td>Saundercock, Mr. William Henry</td>\n",
              "      <td>male</td>\n",
              "      <td>20.0</td>\n",
              "      <td>0</td>\n",
              "      <td>0</td>\n",
              "      <td>A/5. 2151</td>\n",
              "      <td>8.0500</td>\n",
              "      <td>NaN</td>\n",
              "      <td>S</td>\n",
              "    </tr>\n",
              "    <tr>\n",
              "      <th>13</th>\n",
              "      <td>14</td>\n",
              "      <td>0</td>\n",
              "      <td>3</td>\n",
              "      <td>Andersson, Mr. Anders Johan</td>\n",
              "      <td>male</td>\n",
              "      <td>39.0</td>\n",
              "      <td>1</td>\n",
              "      <td>5</td>\n",
              "      <td>347082</td>\n",
              "      <td>31.2750</td>\n",
              "      <td>NaN</td>\n",
              "      <td>S</td>\n",
              "    </tr>\n",
              "    <tr>\n",
              "      <th>14</th>\n",
              "      <td>15</td>\n",
              "      <td>0</td>\n",
              "      <td>3</td>\n",
              "      <td>Vestrom, Miss. Hulda Amanda Adolfina</td>\n",
              "      <td>female</td>\n",
              "      <td>14.0</td>\n",
              "      <td>0</td>\n",
              "      <td>0</td>\n",
              "      <td>350406</td>\n",
              "      <td>7.8542</td>\n",
              "      <td>NaN</td>\n",
              "      <td>S</td>\n",
              "    </tr>\n",
              "  </tbody>\n",
              "</table>\n",
              "</div>\n",
              "      <button class=\"colab-df-convert\" onclick=\"convertToInteractive('df-289f7bc3-259f-440b-852d-148d88ceadd2')\"\n",
              "              title=\"Convert this dataframe to an interactive table.\"\n",
              "              style=\"display:none;\">\n",
              "        \n",
              "  <svg xmlns=\"http://www.w3.org/2000/svg\" height=\"24px\"viewBox=\"0 0 24 24\"\n",
              "       width=\"24px\">\n",
              "    <path d=\"M0 0h24v24H0V0z\" fill=\"none\"/>\n",
              "    <path d=\"M18.56 5.44l.94 2.06.94-2.06 2.06-.94-2.06-.94-.94-2.06-.94 2.06-2.06.94zm-11 1L8.5 8.5l.94-2.06 2.06-.94-2.06-.94L8.5 2.5l-.94 2.06-2.06.94zm10 10l.94 2.06.94-2.06 2.06-.94-2.06-.94-.94-2.06-.94 2.06-2.06.94z\"/><path d=\"M17.41 7.96l-1.37-1.37c-.4-.4-.92-.59-1.43-.59-.52 0-1.04.2-1.43.59L10.3 9.45l-7.72 7.72c-.78.78-.78 2.05 0 2.83L4 21.41c.39.39.9.59 1.41.59.51 0 1.02-.2 1.41-.59l7.78-7.78 2.81-2.81c.8-.78.8-2.07 0-2.86zM5.41 20L4 18.59l7.72-7.72 1.47 1.35L5.41 20z\"/>\n",
              "  </svg>\n",
              "      </button>\n",
              "      \n",
              "  <style>\n",
              "    .colab-df-container {\n",
              "      display:flex;\n",
              "      flex-wrap:wrap;\n",
              "      gap: 12px;\n",
              "    }\n",
              "\n",
              "    .colab-df-convert {\n",
              "      background-color: #E8F0FE;\n",
              "      border: none;\n",
              "      border-radius: 50%;\n",
              "      cursor: pointer;\n",
              "      display: none;\n",
              "      fill: #1967D2;\n",
              "      height: 32px;\n",
              "      padding: 0 0 0 0;\n",
              "      width: 32px;\n",
              "    }\n",
              "\n",
              "    .colab-df-convert:hover {\n",
              "      background-color: #E2EBFA;\n",
              "      box-shadow: 0px 1px 2px rgba(60, 64, 67, 0.3), 0px 1px 3px 1px rgba(60, 64, 67, 0.15);\n",
              "      fill: #174EA6;\n",
              "    }\n",
              "\n",
              "    [theme=dark] .colab-df-convert {\n",
              "      background-color: #3B4455;\n",
              "      fill: #D2E3FC;\n",
              "    }\n",
              "\n",
              "    [theme=dark] .colab-df-convert:hover {\n",
              "      background-color: #434B5C;\n",
              "      box-shadow: 0px 1px 3px 1px rgba(0, 0, 0, 0.15);\n",
              "      filter: drop-shadow(0px 1px 2px rgba(0, 0, 0, 0.3));\n",
              "      fill: #FFFFFF;\n",
              "    }\n",
              "  </style>\n",
              "\n",
              "      <script>\n",
              "        const buttonEl =\n",
              "          document.querySelector('#df-289f7bc3-259f-440b-852d-148d88ceadd2 button.colab-df-convert');\n",
              "        buttonEl.style.display =\n",
              "          google.colab.kernel.accessAllowed ? 'block' : 'none';\n",
              "\n",
              "        async function convertToInteractive(key) {\n",
              "          const element = document.querySelector('#df-289f7bc3-259f-440b-852d-148d88ceadd2');\n",
              "          const dataTable =\n",
              "            await google.colab.kernel.invokeFunction('convertToInteractive',\n",
              "                                                     [key], {});\n",
              "          if (!dataTable) return;\n",
              "\n",
              "          const docLinkHtml = 'Like what you see? Visit the ' +\n",
              "            '<a target=\"_blank\" href=https://colab.research.google.com/notebooks/data_table.ipynb>data table notebook</a>'\n",
              "            + ' to learn more about interactive tables.';\n",
              "          element.innerHTML = '';\n",
              "          dataTable['output_type'] = 'display_data';\n",
              "          await google.colab.output.renderOutput(dataTable, element);\n",
              "          const docLink = document.createElement('div');\n",
              "          docLink.innerHTML = docLinkHtml;\n",
              "          element.appendChild(docLink);\n",
              "        }\n",
              "      </script>\n",
              "    </div>\n",
              "  </div>\n",
              "  "
            ]
          },
          "metadata": {},
          "execution_count": 3
        }
      ]
    },
    {
      "cell_type": "code",
      "source": [
        "# Explorando os dados de teste \n",
        "# Lembrando que os dados de teste de kaggle não possuem o atributo Survival (label para o problema de classificação)\n",
        "test_data = pd.read_csv(\"./titanic/test.csv\")\n",
        "test_data.head()"
      ],
      "metadata": {
        "colab": {
          "base_uri": "https://localhost:8080/",
          "height": 268
        },
        "id": "zq-G4YCB3GCi",
        "outputId": "edc79fe1-8738-4f24-b401-aa5bafa905fe"
      },
      "execution_count": null,
      "outputs": [
        {
          "output_type": "execute_result",
          "data": {
            "text/plain": [
              "   PassengerId  Pclass                                          Name     Sex  \\\n",
              "0          892       3                              Kelly, Mr. James    male   \n",
              "1          893       3              Wilkes, Mrs. James (Ellen Needs)  female   \n",
              "2          894       2                     Myles, Mr. Thomas Francis    male   \n",
              "3          895       3                              Wirz, Mr. Albert    male   \n",
              "4          896       3  Hirvonen, Mrs. Alexander (Helga E Lindqvist)  female   \n",
              "\n",
              "    Age  SibSp  Parch   Ticket     Fare Cabin Embarked  \n",
              "0  34.5      0      0   330911   7.8292   NaN        Q  \n",
              "1  47.0      1      0   363272   7.0000   NaN        S  \n",
              "2  62.0      0      0   240276   9.6875   NaN        Q  \n",
              "3  27.0      0      0   315154   8.6625   NaN        S  \n",
              "4  22.0      1      1  3101298  12.2875   NaN        S  "
            ],
            "text/html": [
              "\n",
              "  <div id=\"df-1502d760-42c7-4028-8b8b-6b85fb5df7b6\">\n",
              "    <div class=\"colab-df-container\">\n",
              "      <div>\n",
              "<style scoped>\n",
              "    .dataframe tbody tr th:only-of-type {\n",
              "        vertical-align: middle;\n",
              "    }\n",
              "\n",
              "    .dataframe tbody tr th {\n",
              "        vertical-align: top;\n",
              "    }\n",
              "\n",
              "    .dataframe thead th {\n",
              "        text-align: right;\n",
              "    }\n",
              "</style>\n",
              "<table border=\"1\" class=\"dataframe\">\n",
              "  <thead>\n",
              "    <tr style=\"text-align: right;\">\n",
              "      <th></th>\n",
              "      <th>PassengerId</th>\n",
              "      <th>Pclass</th>\n",
              "      <th>Name</th>\n",
              "      <th>Sex</th>\n",
              "      <th>Age</th>\n",
              "      <th>SibSp</th>\n",
              "      <th>Parch</th>\n",
              "      <th>Ticket</th>\n",
              "      <th>Fare</th>\n",
              "      <th>Cabin</th>\n",
              "      <th>Embarked</th>\n",
              "    </tr>\n",
              "  </thead>\n",
              "  <tbody>\n",
              "    <tr>\n",
              "      <th>0</th>\n",
              "      <td>892</td>\n",
              "      <td>3</td>\n",
              "      <td>Kelly, Mr. James</td>\n",
              "      <td>male</td>\n",
              "      <td>34.5</td>\n",
              "      <td>0</td>\n",
              "      <td>0</td>\n",
              "      <td>330911</td>\n",
              "      <td>7.8292</td>\n",
              "      <td>NaN</td>\n",
              "      <td>Q</td>\n",
              "    </tr>\n",
              "    <tr>\n",
              "      <th>1</th>\n",
              "      <td>893</td>\n",
              "      <td>3</td>\n",
              "      <td>Wilkes, Mrs. James (Ellen Needs)</td>\n",
              "      <td>female</td>\n",
              "      <td>47.0</td>\n",
              "      <td>1</td>\n",
              "      <td>0</td>\n",
              "      <td>363272</td>\n",
              "      <td>7.0000</td>\n",
              "      <td>NaN</td>\n",
              "      <td>S</td>\n",
              "    </tr>\n",
              "    <tr>\n",
              "      <th>2</th>\n",
              "      <td>894</td>\n",
              "      <td>2</td>\n",
              "      <td>Myles, Mr. Thomas Francis</td>\n",
              "      <td>male</td>\n",
              "      <td>62.0</td>\n",
              "      <td>0</td>\n",
              "      <td>0</td>\n",
              "      <td>240276</td>\n",
              "      <td>9.6875</td>\n",
              "      <td>NaN</td>\n",
              "      <td>Q</td>\n",
              "    </tr>\n",
              "    <tr>\n",
              "      <th>3</th>\n",
              "      <td>895</td>\n",
              "      <td>3</td>\n",
              "      <td>Wirz, Mr. Albert</td>\n",
              "      <td>male</td>\n",
              "      <td>27.0</td>\n",
              "      <td>0</td>\n",
              "      <td>0</td>\n",
              "      <td>315154</td>\n",
              "      <td>8.6625</td>\n",
              "      <td>NaN</td>\n",
              "      <td>S</td>\n",
              "    </tr>\n",
              "    <tr>\n",
              "      <th>4</th>\n",
              "      <td>896</td>\n",
              "      <td>3</td>\n",
              "      <td>Hirvonen, Mrs. Alexander (Helga E Lindqvist)</td>\n",
              "      <td>female</td>\n",
              "      <td>22.0</td>\n",
              "      <td>1</td>\n",
              "      <td>1</td>\n",
              "      <td>3101298</td>\n",
              "      <td>12.2875</td>\n",
              "      <td>NaN</td>\n",
              "      <td>S</td>\n",
              "    </tr>\n",
              "  </tbody>\n",
              "</table>\n",
              "</div>\n",
              "      <button class=\"colab-df-convert\" onclick=\"convertToInteractive('df-1502d760-42c7-4028-8b8b-6b85fb5df7b6')\"\n",
              "              title=\"Convert this dataframe to an interactive table.\"\n",
              "              style=\"display:none;\">\n",
              "        \n",
              "  <svg xmlns=\"http://www.w3.org/2000/svg\" height=\"24px\"viewBox=\"0 0 24 24\"\n",
              "       width=\"24px\">\n",
              "    <path d=\"M0 0h24v24H0V0z\" fill=\"none\"/>\n",
              "    <path d=\"M18.56 5.44l.94 2.06.94-2.06 2.06-.94-2.06-.94-.94-2.06-.94 2.06-2.06.94zm-11 1L8.5 8.5l.94-2.06 2.06-.94-2.06-.94L8.5 2.5l-.94 2.06-2.06.94zm10 10l.94 2.06.94-2.06 2.06-.94-2.06-.94-.94-2.06-.94 2.06-2.06.94z\"/><path d=\"M17.41 7.96l-1.37-1.37c-.4-.4-.92-.59-1.43-.59-.52 0-1.04.2-1.43.59L10.3 9.45l-7.72 7.72c-.78.78-.78 2.05 0 2.83L4 21.41c.39.39.9.59 1.41.59.51 0 1.02-.2 1.41-.59l7.78-7.78 2.81-2.81c.8-.78.8-2.07 0-2.86zM5.41 20L4 18.59l7.72-7.72 1.47 1.35L5.41 20z\"/>\n",
              "  </svg>\n",
              "      </button>\n",
              "      \n",
              "  <style>\n",
              "    .colab-df-container {\n",
              "      display:flex;\n",
              "      flex-wrap:wrap;\n",
              "      gap: 12px;\n",
              "    }\n",
              "\n",
              "    .colab-df-convert {\n",
              "      background-color: #E8F0FE;\n",
              "      border: none;\n",
              "      border-radius: 50%;\n",
              "      cursor: pointer;\n",
              "      display: none;\n",
              "      fill: #1967D2;\n",
              "      height: 32px;\n",
              "      padding: 0 0 0 0;\n",
              "      width: 32px;\n",
              "    }\n",
              "\n",
              "    .colab-df-convert:hover {\n",
              "      background-color: #E2EBFA;\n",
              "      box-shadow: 0px 1px 2px rgba(60, 64, 67, 0.3), 0px 1px 3px 1px rgba(60, 64, 67, 0.15);\n",
              "      fill: #174EA6;\n",
              "    }\n",
              "\n",
              "    [theme=dark] .colab-df-convert {\n",
              "      background-color: #3B4455;\n",
              "      fill: #D2E3FC;\n",
              "    }\n",
              "\n",
              "    [theme=dark] .colab-df-convert:hover {\n",
              "      background-color: #434B5C;\n",
              "      box-shadow: 0px 1px 3px 1px rgba(0, 0, 0, 0.15);\n",
              "      filter: drop-shadow(0px 1px 2px rgba(0, 0, 0, 0.3));\n",
              "      fill: #FFFFFF;\n",
              "    }\n",
              "  </style>\n",
              "\n",
              "      <script>\n",
              "        const buttonEl =\n",
              "          document.querySelector('#df-1502d760-42c7-4028-8b8b-6b85fb5df7b6 button.colab-df-convert');\n",
              "        buttonEl.style.display =\n",
              "          google.colab.kernel.accessAllowed ? 'block' : 'none';\n",
              "\n",
              "        async function convertToInteractive(key) {\n",
              "          const element = document.querySelector('#df-1502d760-42c7-4028-8b8b-6b85fb5df7b6');\n",
              "          const dataTable =\n",
              "            await google.colab.kernel.invokeFunction('convertToInteractive',\n",
              "                                                     [key], {});\n",
              "          if (!dataTable) return;\n",
              "\n",
              "          const docLinkHtml = 'Like what you see? Visit the ' +\n",
              "            '<a target=\"_blank\" href=https://colab.research.google.com/notebooks/data_table.ipynb>data table notebook</a>'\n",
              "            + ' to learn more about interactive tables.';\n",
              "          element.innerHTML = '';\n",
              "          dataTable['output_type'] = 'display_data';\n",
              "          await google.colab.output.renderOutput(dataTable, element);\n",
              "          const docLink = document.createElement('div');\n",
              "          docLink.innerHTML = docLinkHtml;\n",
              "          element.appendChild(docLink);\n",
              "        }\n",
              "      </script>\n",
              "    </div>\n",
              "  </div>\n",
              "  "
            ]
          },
          "metadata": {},
          "execution_count": 4
        }
      ]
    },
    {
      "cell_type": "code",
      "source": [
        "# Explorano os dados de submisão para kaggle\n",
        "gender_submission = pd.read_csv('./titanic/gender_submission.csv')\n",
        "gender_submission.head()"
      ],
      "metadata": {
        "colab": {
          "base_uri": "https://localhost:8080/",
          "height": 206
        },
        "id": "sQQlQCCl8l7n",
        "outputId": "06384750-bad2-4f08-de56-f5c813d8bd28"
      },
      "execution_count": null,
      "outputs": [
        {
          "output_type": "execute_result",
          "data": {
            "text/plain": [
              "   PassengerId  Survived\n",
              "0          892         0\n",
              "1          893         1\n",
              "2          894         0\n",
              "3          895         0\n",
              "4          896         1"
            ],
            "text/html": [
              "\n",
              "  <div id=\"df-62d15695-04ec-4abb-b46f-5a4ac36c7b3e\">\n",
              "    <div class=\"colab-df-container\">\n",
              "      <div>\n",
              "<style scoped>\n",
              "    .dataframe tbody tr th:only-of-type {\n",
              "        vertical-align: middle;\n",
              "    }\n",
              "\n",
              "    .dataframe tbody tr th {\n",
              "        vertical-align: top;\n",
              "    }\n",
              "\n",
              "    .dataframe thead th {\n",
              "        text-align: right;\n",
              "    }\n",
              "</style>\n",
              "<table border=\"1\" class=\"dataframe\">\n",
              "  <thead>\n",
              "    <tr style=\"text-align: right;\">\n",
              "      <th></th>\n",
              "      <th>PassengerId</th>\n",
              "      <th>Survived</th>\n",
              "    </tr>\n",
              "  </thead>\n",
              "  <tbody>\n",
              "    <tr>\n",
              "      <th>0</th>\n",
              "      <td>892</td>\n",
              "      <td>0</td>\n",
              "    </tr>\n",
              "    <tr>\n",
              "      <th>1</th>\n",
              "      <td>893</td>\n",
              "      <td>1</td>\n",
              "    </tr>\n",
              "    <tr>\n",
              "      <th>2</th>\n",
              "      <td>894</td>\n",
              "      <td>0</td>\n",
              "    </tr>\n",
              "    <tr>\n",
              "      <th>3</th>\n",
              "      <td>895</td>\n",
              "      <td>0</td>\n",
              "    </tr>\n",
              "    <tr>\n",
              "      <th>4</th>\n",
              "      <td>896</td>\n",
              "      <td>1</td>\n",
              "    </tr>\n",
              "  </tbody>\n",
              "</table>\n",
              "</div>\n",
              "      <button class=\"colab-df-convert\" onclick=\"convertToInteractive('df-62d15695-04ec-4abb-b46f-5a4ac36c7b3e')\"\n",
              "              title=\"Convert this dataframe to an interactive table.\"\n",
              "              style=\"display:none;\">\n",
              "        \n",
              "  <svg xmlns=\"http://www.w3.org/2000/svg\" height=\"24px\"viewBox=\"0 0 24 24\"\n",
              "       width=\"24px\">\n",
              "    <path d=\"M0 0h24v24H0V0z\" fill=\"none\"/>\n",
              "    <path d=\"M18.56 5.44l.94 2.06.94-2.06 2.06-.94-2.06-.94-.94-2.06-.94 2.06-2.06.94zm-11 1L8.5 8.5l.94-2.06 2.06-.94-2.06-.94L8.5 2.5l-.94 2.06-2.06.94zm10 10l.94 2.06.94-2.06 2.06-.94-2.06-.94-.94-2.06-.94 2.06-2.06.94z\"/><path d=\"M17.41 7.96l-1.37-1.37c-.4-.4-.92-.59-1.43-.59-.52 0-1.04.2-1.43.59L10.3 9.45l-7.72 7.72c-.78.78-.78 2.05 0 2.83L4 21.41c.39.39.9.59 1.41.59.51 0 1.02-.2 1.41-.59l7.78-7.78 2.81-2.81c.8-.78.8-2.07 0-2.86zM5.41 20L4 18.59l7.72-7.72 1.47 1.35L5.41 20z\"/>\n",
              "  </svg>\n",
              "      </button>\n",
              "      \n",
              "  <style>\n",
              "    .colab-df-container {\n",
              "      display:flex;\n",
              "      flex-wrap:wrap;\n",
              "      gap: 12px;\n",
              "    }\n",
              "\n",
              "    .colab-df-convert {\n",
              "      background-color: #E8F0FE;\n",
              "      border: none;\n",
              "      border-radius: 50%;\n",
              "      cursor: pointer;\n",
              "      display: none;\n",
              "      fill: #1967D2;\n",
              "      height: 32px;\n",
              "      padding: 0 0 0 0;\n",
              "      width: 32px;\n",
              "    }\n",
              "\n",
              "    .colab-df-convert:hover {\n",
              "      background-color: #E2EBFA;\n",
              "      box-shadow: 0px 1px 2px rgba(60, 64, 67, 0.3), 0px 1px 3px 1px rgba(60, 64, 67, 0.15);\n",
              "      fill: #174EA6;\n",
              "    }\n",
              "\n",
              "    [theme=dark] .colab-df-convert {\n",
              "      background-color: #3B4455;\n",
              "      fill: #D2E3FC;\n",
              "    }\n",
              "\n",
              "    [theme=dark] .colab-df-convert:hover {\n",
              "      background-color: #434B5C;\n",
              "      box-shadow: 0px 1px 3px 1px rgba(0, 0, 0, 0.15);\n",
              "      filter: drop-shadow(0px 1px 2px rgba(0, 0, 0, 0.3));\n",
              "      fill: #FFFFFF;\n",
              "    }\n",
              "  </style>\n",
              "\n",
              "      <script>\n",
              "        const buttonEl =\n",
              "          document.querySelector('#df-62d15695-04ec-4abb-b46f-5a4ac36c7b3e button.colab-df-convert');\n",
              "        buttonEl.style.display =\n",
              "          google.colab.kernel.accessAllowed ? 'block' : 'none';\n",
              "\n",
              "        async function convertToInteractive(key) {\n",
              "          const element = document.querySelector('#df-62d15695-04ec-4abb-b46f-5a4ac36c7b3e');\n",
              "          const dataTable =\n",
              "            await google.colab.kernel.invokeFunction('convertToInteractive',\n",
              "                                                     [key], {});\n",
              "          if (!dataTable) return;\n",
              "\n",
              "          const docLinkHtml = 'Like what you see? Visit the ' +\n",
              "            '<a target=\"_blank\" href=https://colab.research.google.com/notebooks/data_table.ipynb>data table notebook</a>'\n",
              "            + ' to learn more about interactive tables.';\n",
              "          element.innerHTML = '';\n",
              "          dataTable['output_type'] = 'display_data';\n",
              "          await google.colab.output.renderOutput(dataTable, element);\n",
              "          const docLink = document.createElement('div');\n",
              "          docLink.innerHTML = docLinkHtml;\n",
              "          element.appendChild(docLink);\n",
              "        }\n",
              "      </script>\n",
              "    </div>\n",
              "  </div>\n",
              "  "
            ]
          },
          "metadata": {},
          "execution_count": 5
        }
      ]
    },
    {
      "cell_type": "markdown",
      "source": [
        "### Descripção das caracteristicas \n",
        "---\n",
        "\n"
      ],
      "metadata": {
        "id": "MYJWypLq53Ck"
      }
    },
    {
      "cell_type": "code",
      "source": [
        "# Passo 2\n",
        "# Imprime informação das features presentes no conjunto de trenamento\n",
        "# link: https://pandas.pydata.org/docs/reference/api/pandas.DataFrame.info.html?highlight=info#pandas.DataFrame.info \n",
        "### COMENZAR O CODIGO AQUI ### \n",
        "train_data.info()\n",
        "### TERMINA AQUI ###"
      ],
      "metadata": {
        "colab": {
          "base_uri": "https://localhost:8080/"
        },
        "id": "9aE76eta3b1Y",
        "outputId": "17266a7b-2bca-44da-df96-5715617752ee"
      },
      "execution_count": null,
      "outputs": [
        {
          "output_type": "stream",
          "name": "stdout",
          "text": [
            "<class 'pandas.core.frame.DataFrame'>\n",
            "RangeIndex: 891 entries, 0 to 890\n",
            "Data columns (total 12 columns):\n",
            " #   Column       Non-Null Count  Dtype  \n",
            "---  ------       --------------  -----  \n",
            " 0   PassengerId  891 non-null    int64  \n",
            " 1   Survived     891 non-null    int64  \n",
            " 2   Pclass       891 non-null    int64  \n",
            " 3   Name         891 non-null    object \n",
            " 4   Sex          891 non-null    object \n",
            " 5   Age          714 non-null    float64\n",
            " 6   SibSp        891 non-null    int64  \n",
            " 7   Parch        891 non-null    int64  \n",
            " 8   Ticket       891 non-null    object \n",
            " 9   Fare         891 non-null    float64\n",
            " 10  Cabin        204 non-null    object \n",
            " 11  Embarked     889 non-null    object \n",
            "dtypes: float64(2), int64(5), object(5)\n",
            "memory usage: 83.7+ KB\n"
          ]
        }
      ]
    },
    {
      "cell_type": "markdown",
      "source": [
        "| Variable | Definition | Key \n",
        "|----------|-----------------------|-----------------------------------|\n",
        "|survival  | Sobrevivência         |0=No, 1=Sim                        |\n",
        "|pclass    | Classe de ingresso\t   |1 = 1st, 2 = 2nd, 3 = 3rd          |\n",
        "|sex       | Sexo                  | |\n",
        "|Age       | Idade em anos         | |\n",
        "|sibsp     | # de irmãos/cônjuges  | |\n",
        "|parch     | # de pais/filhos      | |\n",
        "|ticket    | Número do bilhete     | |\n",
        "|fare      | Tarifa de passageiro\t | |\n",
        "|cabin     | Número da cabine\t     | |\n",
        "|embarked  | Porto de embarcação   |C=Cherbourg, Q=Queenstown, S=Southampton |"
      ],
      "metadata": {
        "id": "ObsW2BvB89Mh"
      }
    },
    {
      "cell_type": "markdown",
      "source": [
        "### Dados faltantes (missing value)\n"
      ],
      "metadata": {
        "id": "tes9m-VXFf3K"
      }
    },
    {
      "cell_type": "code",
      "source": [
        "# Passo 3\n",
        "# Visualize os dados faltantes no conjunto de trenamento\n",
        "# Para visualizar os dados faltantes ou missing value pode empregar a função matrix do pacote python missingno\n",
        "# link: https://github.com/ResidentMario/missingno \n",
        "### COMENZAR O CODIGO AQUI ### \n",
        "msno.matrix(train_data)\n",
        "### COMENZAR O CODIGO AQUI ### \n",
        "plt.show()\n"
      ],
      "metadata": {
        "colab": {
          "base_uri": "https://localhost:8080/",
          "height": 433
        },
        "id": "IQrdRhbT3b85",
        "outputId": "97973881-49a3-4cbe-9953-b75ae8bee245"
      },
      "execution_count": null,
      "outputs": [
        {
          "output_type": "display_data",
          "data": {
            "text/plain": [
              "<Figure size 1800x720 with 2 Axes>"
            ],
            "image/png": "[encoded data removed]"
          },
          "metadata": {
            "needs_background": "light"
          }
        }
      ]
    },
    {
      "cell_type": "code",
      "source": [
        "train_data = train_data.drop(columns='Cabin')\n"
      ],
      "metadata": {
        "id": "oC2y_cHgQz94"
      },
      "execution_count": null,
      "outputs": []
    },
    {
      "cell_type": "code",
      "source": [
        "msno.matrix(train_data)\n",
        "plt.show()"
      ],
      "metadata": {
        "colab": {
          "base_uri": "https://localhost:8080/",
          "height": 433
        },
        "id": "Bo48qpBzR8Cr",
        "outputId": "c87f76c7-5b07-4475-923d-84f987d786ce"
      },
      "execution_count": null,
      "outputs": [
        {
          "output_type": "display_data",
          "data": {
            "text/plain": [
              "<Figure size 1800x720 with 2 Axes>"
            ],
            "image/png": "[encoded data removed]"
          },
          "metadata": {
            "needs_background": "light"
          }
        }
      ]
    },
    {
      "cell_type": "markdown",
      "source": [
        "### Alguns exemplos didacticos do analisis da edad e do sexo\n",
        "Siéntase libre para formular novas hipóteses e validar elas no conjunto de treinamento\n"
      ],
      "metadata": {
        "id": "xFMo8Ts_ZpYi"
      }
    },
    {
      "cell_type": "markdown",
      "source": [
        "#### Analisis da edad\n",
        "Para fazer uma análise da idade foi selecionado algumas faixas etárias para entender quais destas faixas foram mais afectadas no acidente \n",
        "\n",
        "Formularam-se as seguintes hipóteses: \n",
        "\n",
        "* Qual foi a média de idade no Titanic?\n",
        "* Qual foi a faixa etária mais afetada? \n",
        "* Os meninos e adolescentes (0-20 anos) tiveram alguma prioridade na hora do resgate?\n"
      ],
      "metadata": {
        "id": "nH10-0WbgWO1"
      }
    },
    {
      "cell_type": "code",
      "source": [
        "# Passo 4\n",
        "# Seleccionar a feature \"Age\" dos dados de treinamento\n",
        "train_age = train_data['Age'].copy()\n",
        "train_age = train_age[~train_data['Age'].isnull()] \n",
        "\n",
        "# Imprimir a estadística descriptiva da idade\n",
        "print(train_age.describe())\n",
        "\n",
        "# Qual foi a média de idade no Titanic?\n",
        "### COMENZAR O CODIGO AQUI ### \n",
        "age_media =  train_age.mean()\n",
        "### TERMINA AQUI ###\n",
        "print(\"\\nA idade media do Titanic foi de: {} anos\".format(age_media))"
      ],
      "metadata": {
        "colab": {
          "base_uri": "https://localhost:8080/"
        },
        "id": "_z67hoUn3cCc",
        "outputId": "2dba1f89-33a8-45a2-c923-2ad497cb1a89"
      },
      "execution_count": null,
      "outputs": [
        {
          "output_type": "stream",
          "name": "stdout",
          "text": [
            "count    714.000000\n",
            "mean      29.699118\n",
            "std       14.526497\n",
            "min        0.420000\n",
            "25%       20.125000\n",
            "50%       28.000000\n",
            "75%       38.000000\n",
            "max       80.000000\n",
            "Name: Age, dtype: float64\n",
            "\n",
            "A idade media do Titanic foi de: 29.69911764705882 anos\n"
          ]
        }
      ]
    },
    {
      "cell_type": "code",
      "source": [
        "# Quantification Xage\n",
        "# Xage = [Xage/q] * q \n",
        "quant = 20\n",
        "train_age = ((train_age/quant).astype(int)) * quant\n",
        "train_age.hist()\n",
        "plt.show()"
      ],
      "metadata": {
        "colab": {
          "base_uri": "https://localhost:8080/",
          "height": 268
        },
        "id": "DuDg3fSCI8Tx",
        "outputId": "0a2cf9be-61f1-4512-ecb6-c482f6dbf835"
      },
      "execution_count": null,
      "outputs": [
        {
          "output_type": "display_data",
          "data": {
            "text/plain": [
              "<Figure size 432x288 with 1 Axes>"
            ],
            "image/png": "[encoded data removed]"
          },
          "metadata": {
            "needs_background": "light"
          }
        }
      ]
    },
    {
      "cell_type": "code",
      "source": [
        "train_surv = train_data['Survived'].copy()\n",
        "train_surv = train_surv[~train_data['Age'].isnull()]\n",
        "\n",
        "age_surv = []\n",
        "for age in train_age.sort_values(ascending=True).unique():\n",
        "  age_surv.append(sum(train_surv[train_age==age]))\n",
        "  print('Edad: ', age, '\\t Probabilidade de sobreviver: ', sum(train_surv[train_age==age])/len(train_surv[train_age==age]) )\n",
        "\n",
        "age_surv = pd.DataFrame( data=age_surv )[0]\n"
      ],
      "metadata": {
        "colab": {
          "base_uri": "https://localhost:8080/"
        },
        "id": "UP08Xd4NK0zQ",
        "outputId": "eb074acc-7b41-46ef-efd5-978faaf737a3"
      },
      "execution_count": null,
      "outputs": [
        {
          "output_type": "stream",
          "name": "stdout",
          "text": [
            "Edad:  0 \t Probabilidade de sobreviver:  0.4817073170731707\n",
            "Edad:  20 \t Probabilidade de sobreviver:  0.3875968992248062\n",
            "Edad:  40 \t Probabilidade de sobreviver:  0.39416058394160586\n",
            "Edad:  60 \t Probabilidade de sobreviver:  0.24\n",
            "Edad:  80 \t Probabilidade de sobreviver:  1.0\n"
          ]
        }
      ]
    },
    {
      "cell_type": "code",
      "source": [
        "age = train_age.value_counts().sort_index()\n",
        "sns.set_color_codes(\"pastel\")\n",
        "g=sns.barplot(x=age.index.values, y=age.values, order=age.index, color=\"b\", label='Idade')\n",
        "sns.set_color_codes(\"muted\")\n",
        "sns.barplot(x=age.index.values, y=age_surv.values, order=age.index, color=\"r\", label='No. de sobreviventes')\n",
        "plt.legend(loc=1)\n",
        "plt.show()"
      ],
      "metadata": {
        "colab": {
          "base_uri": "https://localhost:8080/",
          "height": 268
        },
        "id": "QvwLYAqKQO3D",
        "outputId": "d41205dd-d04d-419b-ad43-f4a4f4512c46"
      },
      "execution_count": null,
      "outputs": [
        {
          "output_type": "display_data",
          "data": {
            "text/plain": [
              "<Figure size 432x288 with 1 Axes>"
            ],
            "image/png": "[encoded data removed]"
          },
          "metadata": {
            "needs_background": "light"
          }
        }
      ]
    },
    {
      "cell_type": "code",
      "source": [
        "# Passo 5\n",
        "# Qual foi a faixa etária mais afetada?\n",
        "# Os meninos e adolescentes (0-20 anos) tiveram alguma prioridade na hora do resgate?\n",
        "\n",
        "### COMENZAR O CODIGO AQUI ### \n",
        "age_afetada =  '60 anos'\n",
        "age_meninos =  'Sim'\n",
        "### TERMINA AQUI ###\n",
        "print(\"A faixa etária mais afetada foi: {}\".format(age_afetada))\n",
        "print(\"Os meninos e adolescentes (0-20 anos) tiveram alguma prioridade na hora do resgate? {}\".format(age_meninos))\n"
      ],
      "metadata": {
        "colab": {
          "base_uri": "https://localhost:8080/"
        },
        "id": "RXHpAY_sglGH",
        "outputId": "b3bc3913-bbd4-4531-81f2-1cf9f8511cfe"
      },
      "execution_count": null,
      "outputs": [
        {
          "output_type": "stream",
          "name": "stdout",
          "text": [
            "A faixa etária mais afetada foi: 60 anos\n",
            "Os meninos e adolescentes (0-20 anos) tiveram alguma prioridade na hora do resgate? Sim\n"
          ]
        }
      ]
    },
    {
      "cell_type": "markdown",
      "source": [
        "#### Analisis do sexo\n",
        "Formulou-se a seguinte hipótese:\n",
        "* Quem sobreviveu mais no acidente, mulheres ou homens?\n"
      ],
      "metadata": {
        "id": "7EB49D6ggwqr"
      }
    },
    {
      "cell_type": "code",
      "source": [
        "women = train_data.loc[train_data.Sex == 'female'][\"Survived\"]\n",
        "rate_women = sum(women)/len(women)\n",
        "\n",
        "print(\"Probabilidade de sobreviver das mulheres:\", rate_women)"
      ],
      "metadata": {
        "colab": {
          "base_uri": "https://localhost:8080/"
        },
        "id": "gRShNdkmQO50",
        "outputId": "a5cac2c9-1240-46e7-ec3c-af5fed2fa446"
      },
      "execution_count": null,
      "outputs": [
        {
          "output_type": "stream",
          "name": "stdout",
          "text": [
            "Probabilidade de sobreviver das mulheres: 0.7420382165605095\n"
          ]
        }
      ]
    },
    {
      "cell_type": "code",
      "source": [
        "men = train_data.loc[train_data.Sex == 'male'][\"Survived\"]\n",
        "rate_men = sum(men)/len(men)\n",
        "\n",
        "print(\"Probabilidade de sobreviver dos homes:\", rate_men)"
      ],
      "metadata": {
        "colab": {
          "base_uri": "https://localhost:8080/"
        },
        "id": "f85D5L3QQO8D",
        "outputId": "743bfc41-3f21-4ddd-c8dd-a9eea6069bd9"
      },
      "execution_count": null,
      "outputs": [
        {
          "output_type": "stream",
          "name": "stdout",
          "text": [
            "Probabilidade de sobreviver dos homes: 0.18890814558058924\n"
          ]
        }
      ]
    },
    {
      "cell_type": "code",
      "source": [
        "# Passo 6\n",
        "# Quem sobreviveu mais no acidente, mulheres ou homens?\n",
        "### COMENZAR O CODIGO AQUI ### \n",
        "sex_sobreviveu = 'Mulheres'\n",
        "### TERMINA AQUI ###\n",
        "\n",
        "print(\"Quem sobreviveu mais no acidente, mulheres ou homens? {}\".format(sex_sobreviveu))"
      ],
      "metadata": {
        "colab": {
          "base_uri": "https://localhost:8080/"
        },
        "id": "5hJXbH0NnpeK",
        "outputId": "fdf70313-14b7-49b1-82e6-846f3489809d"
      },
      "execution_count": null,
      "outputs": [
        {
          "output_type": "stream",
          "name": "stdout",
          "text": [
            "Quem sobreviveu mais no acidente, mulheres ou homens? Mulheres\n"
          ]
        }
      ]
    },
    {
      "cell_type": "markdown",
      "source": [
        "## Neural Networks\n",
        "Neste ponto vamos implementar um framework básico para redes neurais :). Nosso objetivo é que você tenha uma visão de como os grandes frameworks de deep learning como Pwtorch e TensorFlow trabalham. Vamos a implementar algumas camadas básicas e uma iteração do backpropagation :)!!!! "
      ],
      "metadata": {
        "id": "tzC0XX8G0yWM"
      }
    },
    {
      "cell_type": "markdown",
      "source": [
        "Uma rede neural pode ser vista como uma função $J(x)$. Um exemplo simple de rede neural pode ser:\n",
        "\n",
        "$$J(x) = 1/2(y - sigm( \\Theta_2*( \\Theta_1*x + b1) +b2 ) )$$\n",
        "\n",
        "então pode ser definido:\n",
        "\n",
        "\\begin{align}\n",
        "z_1 &= x \\\\\n",
        "z_2 &= \\Theta_1*z_1 + b1 \\\\\n",
        "z_3 &= \\Theta_2*z_2 + b2 \\\\\n",
        "z_4 &= sigm( z_3 ) \\\\\n",
        "z_5 &= 1/2(y-z_4) \\\\\n",
        "\\end{align}\n",
        "\n",
        "Treinar a rede significa obter parâmetros ${\\theta_1, \\theta_2}$ que minimizam a função objetivo $J(x)$.\n",
        "A solução iterativa do gradiente descendente atualiza os pesos da siguiente forma:\n",
        "\n",
        "$$\\min_{\\Theta_j} J(x)$$\n",
        "    \n",
        "A atualização dos pesos pode ser feita como:\n",
        "\n",
        "$${\\Theta_j}^{t+1} = {\\Theta_j}^{t} + \\alpha * \\nabla J$$\n"
      ],
      "metadata": {
        "id": "RFqKNMpK2O-K"
      }
    },
    {
      "cell_type": "markdown",
      "source": [
        "### Camada generica\n",
        "Vamos criar uma classe interface para as camas. Lembrem-se que cada camada deve ter no mínimo dois métodos forward e backward."
      ],
      "metadata": {
        "id": "b4NYZWx-3M6T"
      }
    },
    {
      "cell_type": "code",
      "source": [
        "# Example of generic Layer class \n",
        "#        + ---- -+\n",
        "# z ---> | layer | ------ f(z) -->\n",
        "#        +-------+ <----- (dz/dx)_i+1 ------\n",
        "#        |       |\n",
        "#    df(z)/dx_i  df(z)/dW_i\n",
        "\n",
        "class layer(object):\n",
        "    \n",
        "    def forward(self, param):\n",
        "        raise NotImplementedError\n",
        "\n",
        "    def backward(self, param):\n",
        "        raise NotImplementedError\n"
      ],
      "metadata": {
        "id": "yNXR-M2t0zD2"
      },
      "execution_count": null,
      "outputs": []
    },
    {
      "cell_type": "markdown",
      "source": [
        "### Camada linear\n",
        "Vamos implementar uma camada para o produto interno. Para isso, apenas os métodos forward() e backward() precisam ser definidos. O método backward refere-se à derivada de camada. Como esta camada depende do vetor de entrada x e dos pesos \\theta , ambos devem ser calculados em relação à derivada. O parâmetro 'dzdx' refere-se ao erro propagado."
      ],
      "metadata": {
        "id": "BjX2EsO_H0-9"
      }
    },
    {
      "cell_type": "code",
      "source": [
        "# Inner layer class\n",
        "# Ecuation:\n",
        "#   z = W*x + b \n",
        "#   dz/dx_i = W*(dz/dx_{i+1}) \n",
        "#   dz/dw_i = x*(dz/dx_{i+1}) \n",
        "#\n",
        "class inner(layer):\n",
        "\n",
        "    # z = W*x + b \n",
        "    def forward(self, param): \n",
        "        return np.dot(param['w'],param['x']) # param['w'] @ param['x']\n",
        "\n",
        "    # dz/dx_i = W*(dz/dx_{i+1}) \n",
        "    # dz/dw_i = x*(dz/dx_{i+1})\n",
        "    def backward(self, param):\n",
        "        return np.dot(param['w'].T, param['dzdx']), np.dot(param['dzdx'],param['x'].T)"
      ],
      "metadata": {
        "id": "rXZspRQ1ExYN"
      },
      "execution_count": null,
      "outputs": []
    },
    {
      "cell_type": "markdown",
      "source": [
        "### Camada Sigm"
      ],
      "metadata": {
        "id": "yNCN2E60IP_5"
      }
    },
    {
      "cell_type": "code",
      "source": [
        "# Sigmoid layer class\n",
        "# Ecuation:\n",
        "#   z = sigm(x) = 1/(1+exp(-x))\n",
        "#   dz/dx = sigm(x)(1-sigm(x)) *(dz/dx_i+1) \n",
        "#\n",
        "class sigm(layer):\n",
        "    \n",
        "    def forward(self, param): \n",
        "        return self._sigm(param['x'])\n",
        "\n",
        "    def backward(self, param):\n",
        "        return self._sigm(param['x'])*(1.0-self._sigm(param['x']))*param['dzdx']\n",
        "\n",
        "    def _sigm(self, x): \n",
        "      # Passo 7\n",
        "      ### COMENZAR O CODIGO AQUI ###\n",
        "      sig = 1/(1+np.exp(-x))\n",
        "      ### TERMINA AQUI ### \n",
        "      return sig\n"
      ],
      "metadata": {
        "id": "YEv-Bj4XExhG"
      },
      "execution_count": null,
      "outputs": []
    },
    {
      "cell_type": "code",
      "source": [
        "x = np.arange(-5,5,0.01)\n",
        "plt.plot(x, sigm().forward({'x':x}), linewidth=2)\n",
        "plt.plot(x, sigm().backward({'x':x, 'dzdx':1}), linewidth=2)\n",
        "plt.grid(1)\n",
        "plt.legend(['sigmoid', 'sigmoidPrime'])"
      ],
      "metadata": {
        "colab": {
          "base_uri": "https://localhost:8080/",
          "height": 286
        },
        "id": "x7_Gd9S_Exj5",
        "outputId": "aab95659-58c3-4b00-a98c-ed4fc018ba12"
      },
      "execution_count": null,
      "outputs": [
        {
          "output_type": "execute_result",
          "data": {
            "text/plain": [
              "<matplotlib.legend.Legend at 0x7f5e03046b50>"
            ]
          },
          "metadata": {},
          "execution_count": 69
        },
        {
          "output_type": "display_data",
          "data": {
            "text/plain": [
              "<Figure size 432x288 with 1 Axes>"
            ],
            "image/png": "[encoded data removed]"
          },
          "metadata": {
            "needs_background": "light"
          }
        }
      ]
    },
    {
      "cell_type": "markdown",
      "source": [
        "### Camada para o MSE Loss\n",
        "Agora, vamos definir a função de perda. Neste caso correspondem a MSE. Para implementação de perda personalizada, apenas a definição para frente e para trás é necessária. Um exemplo de camada de perda personalizada no caffe com python é fornecido em https://chrischoy.github.io/research/caffe-python-layer/.\n",
        "$$J_{mse} = \\frac{1}{n} \\sum (y-h_{\\theta}(x))^2$$ "
      ],
      "metadata": {
        "id": "AX2vn51VdYNG"
      }
    },
    {
      "cell_type": "code",
      "source": [
        "# Loss layer class\n",
        "# Ecuation:\n",
        "#   z = 1/2 (y-x)^2\n",
        "#   dz/dx = (x-y)*(dz/dx_i+1) \n",
        "#   note: dz/dx_n = 1  \n",
        "#\n",
        "class loss(layer):\n",
        "    \n",
        "    def forward(self, param):         \n",
        "        return  (1.0/(2.0*len(param['y']))*np.sum((param['y']-param['x'])**2))\n",
        "\n",
        "    def backward(self, param):\n",
        "        return (param['x']-param['y'])*param['dzdx']"
      ],
      "metadata": {
        "id": "GEXraCz0dBSo"
      },
      "execution_count": null,
      "outputs": []
    },
    {
      "cell_type": "markdown",
      "source": [
        "### Neural network"
      ],
      "metadata": {
        "id": "tQczPS7FedvS"
      }
    },
    {
      "cell_type": "code",
      "source": [
        "# Create cost function neural netword\n",
        "# Demo\n",
        "#         +--------+    +--------+     +--------+              +--------+\n",
        "#   ----> | inner  |--> | inner  |---> | sigm   | ---->(*)---> | loss   |\n",
        "#         +--------+    +--------+     +--------+              +--------+\n",
        "\n",
        "# Neural Network\n",
        "def Net( x, w1, w2):\n",
        "    '''\n",
        "    forward function\n",
        "    Input:\n",
        "        * x vector nxm. m featurs\n",
        "        * w1, w2 weigths\n",
        "    Return:\n",
        "        * z4\n",
        "    Note: b=0\n",
        "    '''\n",
        "    z1 = x\n",
        "    z2 = inner().forward({'x':z1, 'w':w1}) \n",
        "    z3 = inner().forward({'x':z2, 'w':w2}) \n",
        "    z4 = sigm().forward({'x':z3})\n",
        "    return z4\n",
        "\n",
        "\n",
        "# Cost function\n",
        "def costFunc( x, y, w1, w2):\n",
        "    '''\n",
        "    forward function\n",
        "    Input:\n",
        "        * x vector nxm. m featurs\n",
        "        * w1, w2 weigths\n",
        "    Return:\n",
        "        * z5\n",
        "    \n",
        "    Note: b=0\n",
        "    '''\n",
        "\n",
        "    z1 = x\n",
        "    z2 = inner().forward({'x':z1, 'w':w1}) \n",
        "    z3 = inner().forward({'x':z2, 'w':w2}) \n",
        "    z4 = sigm().forward({'x':z3})\n",
        "    z5 = loss().forward({'x':z4, 'y':y})\n",
        "\n",
        "    return z5\n",
        "\n",
        "# Gradient function\n",
        "def gradCostFunc(x, y, w1, w2):\n",
        "    '''\n",
        "    Apply backward function\n",
        "    Compute dervative with respect to w1 and w2\n",
        "    '''\n",
        "    \n",
        "    # forward --->\n",
        "    z1 = x\n",
        "    z2 = inner().forward({'x':z1, 'w':w1}) \n",
        "    z3 = inner().forward({'x':z2, 'w':w2}) \n",
        "    z4 = sigm().forward({'x':z3});\n",
        "    z5 = loss().forward({'x':z4, 'y':y})\n",
        "\n",
        "    E = z5\n",
        "\n",
        "    # <--- backward\n",
        "    l5 = 1\n",
        "    l4 = loss().backward({'x':z4, 'y':y, 'dzdx':l5} )  \n",
        "    l3 = sigm().backward({'x':z3, 'dzdx':l4})\n",
        "    l2, dEdW2 = inner().backward({'x':z2, 'w':w2, 'dzdx':l3})\n",
        "    _ , dEdW1 = inner().backward({'x':z1, 'w':w1, 'dzdx':l2})\n",
        "\n",
        "    return E, dEdW1, dEdW2"
      ],
      "metadata": {
        "id": "lAiQ-aXMdBV3"
      },
      "execution_count": null,
      "outputs": []
    },
    {
      "cell_type": "markdown",
      "source": [
        "### Test"
      ],
      "metadata": {
        "id": "WamzfyEEhXtp"
      }
    },
    {
      "cell_type": "code",
      "source": [
        "# Create synthetic data\n",
        "\n",
        "# data\n",
        "x = np.matrix([[1,2,3]], dtype=np.float64).T\n",
        "y = np.matrix([1.0], dtype=np.float64)\n",
        "\n",
        "# init weights\n",
        "w1 = np.matrix([[0.1, 0.2, 0.3],[0.1, 0.2, 0.3]], dtype=np.float64)\n",
        "w2 = np.matrix([0.8, 0.2], dtype=np.float64)\n",
        "\n",
        "# evaluate function\n",
        "y_ = Net( x, w1, w2)\n",
        "e = loss().forward({'x':y_,'y':y})\n",
        "\n",
        "print('Loss:', e)"
      ],
      "metadata": {
        "colab": {
          "base_uri": "https://localhost:8080/"
        },
        "id": "PkBHDMeydBYl",
        "outputId": "0c9b3c6e-6309-44d1-d64f-d75a1a8fb117"
      },
      "execution_count": null,
      "outputs": [
        {
          "output_type": "stream",
          "name": "stdout",
          "text": [
            "Loss: 0.019565606972901814\n"
          ]
        }
      ]
    },
    {
      "cell_type": "code",
      "source": [
        "# derivate\n",
        "# grad J(x)\n",
        "E, dEdW1, dEdW2 = gradCostFunc(x, y, w1, w2);\n",
        "\n",
        "# minimization with gradien decent\n",
        "# w^t = m*w^(t-1) + lr*gardJ  \n",
        "\n",
        "print(E)\n",
        "print(dEdW1)\n",
        "print(dEdW2)"
      ],
      "metadata": {
        "colab": {
          "base_uri": "https://localhost:8080/"
        },
        "id": "GxdxTU-adBbq",
        "outputId": "85c06e08-793b-4b5a-f418-fc1979b10212"
      },
      "execution_count": null,
      "outputs": [
        {
          "output_type": "stream",
          "name": "stdout",
          "text": [
            "0.019565606972901814\n",
            "[[-0.02511234 -0.05022469 -0.07533703]\n",
            " [-0.00627809 -0.01255617 -0.01883426]]\n",
            "[[-0.0439466 -0.0439466]]\n"
          ]
        }
      ]
    },
    {
      "cell_type": "code",
      "source": [
        "train_data.columns"
      ],
      "metadata": {
        "colab": {
          "base_uri": "https://localhost:8080/"
        },
        "id": "IkjTApHgP78n",
        "outputId": "10e748e4-e368-48b0-b251-e0e65b4f6239"
      },
      "execution_count": null,
      "outputs": [
        {
          "output_type": "execute_result",
          "data": {
            "text/plain": [
              "Index(['PassengerId', 'Survived', 'Pclass', 'Name', 'Sex', 'Age', 'SibSp',\n",
              "       'Parch', 'Ticket', 'Fare', 'Cabin', 'Embarked'],\n",
              "      dtype='object')"
            ]
          },
          "metadata": {},
          "execution_count": 53
        }
      ]
    },
    {
      "cell_type": "markdown",
      "source": [
        "## Regressão Logística sklearn\n"
      ],
      "metadata": {
        "id": "w2qzDXTBd60G"
      }
    },
    {
      "cell_type": "code",
      "source": [
        "import random\n",
        "from sklearn.model_selection import train_test_split\n",
        "import sklearn.metrics as metrics\n",
        "from sklearn.linear_model import LogisticRegression\n",
        "\n",
        "# Passo 8\n",
        "# Seleção da feature a ser estimada\n",
        "# Lembrem-se que queremos saber quem sobreviveu \n",
        "### COMENZAR O CODIGO AQUI ### \n",
        "y = train_data['Survived']\n",
        "### TERMINA AQUI ###\n",
        "\n",
        "# Passo 9\n",
        "# Selecção das features\n",
        "# Para este exemplo foram selecionadas 4 features. Sinta-se a bondade de \n",
        "# experimentar com um número maior ou menor. Pode determinar inclusive qual \n",
        "# seriam as melhores features para resolver o problema empregando EDA. \n",
        "### COMENZAR O CODIGO AQUI ### \n",
        "features = ['Sex', 'Parch', 'Pclass', 'SibSp' ]\n",
        "X = pd.get_dummies(train_data[features])\n",
        "X_test = pd.get_dummies(test_data[features])\n",
        "### TERMINA AQUI ###\n",
        "\n",
        "# Passo 10\n",
        "# Divisão do conjunto em treinamento e validação\n",
        "# Seleccione o procentagem para o conjunto de validação\n",
        "### COMENZAR O CODIGO AQUI ### \n",
        "tamanho_val = 0.3\n",
        "### TERMINA AQUI ###\n",
        "X_train, X_val, y_train, y_val = train_test_split(X,y, test_size=tamanho_val, shuffle=True, random_state=0)\n",
        "\n",
        "# Passo 11\n",
        "# Criação dos modelos de regressão logistica\n",
        "# Cree uma instância da classe de regression logistica\n",
        "### COMENZAR O CODIGO AQUI ###\n",
        "model = LogisticRegression()\n",
        "### TERMINA AQUI ###\n",
        "\n",
        "# Passo 12\n",
        "# Treinamento\n",
        "# Empregando a função fit treine o modelo regressão logitica\n",
        "### COMENZAR O CODIGO AQUI ###\n",
        "model.fit(X_train, y_train)\n",
        "### TERMINA AQUI ###\n",
        "\n",
        "# Passo 13\n",
        "# Predição\n",
        "### COMENZAR O CODIGO AQUI ###\n",
        "preditions = model.predict(X_val)\n",
        "### TERMINA AQUI ###\n",
        "\n",
        "# Avaliação\n",
        "acc = metrics.accuracy_score(y_val, preditions)\n",
        "\n",
        "print('Accuracy', acc)\n",
        "\n",
        "  "
      ],
      "metadata": {
        "colab": {
          "base_uri": "https://localhost:8080/"
        },
        "id": "RVznyiflL74l",
        "outputId": "308de6ea-d7ec-45a7-f5d4-7e8ca04f9fde"
      },
      "execution_count": null,
      "outputs": [
        {
          "output_type": "stream",
          "name": "stdout",
          "text": [
            "Accuracy 0.7947761194029851\n"
          ]
        }
      ]
    },
    {
      "cell_type": "code",
      "source": [
        ""
      ],
      "metadata": {
        "id": "D5ftJ_GChXuR"
      },
      "execution_count": null,
      "outputs": []
    },
    {
      "cell_type": "markdown",
      "source": [
        "### Escolhe o melhor parâmetro e gera um modelo"
      ],
      "metadata": {
        "id": "0-ltUjSll4Cp"
      }
    },
    {
      "cell_type": "code",
      "source": [
        "# Passo 14\n",
        "# Escolhe o melhor parâmetro\n",
        "### COMENZAR O CODIGO AQUI ###  \n",
        "model = LogisticRegression()\n",
        "model.fit(X_train, y_train)\n",
        "### TERMINA AQUI ###"
      ],
      "metadata": {
        "colab": {
          "base_uri": "https://localhost:8080/"
        },
        "id": "1CWYhpj7icCt",
        "outputId": "be73c1f4-331a-4a4f-e5c0-71d00ac31fd0"
      },
      "execution_count": null,
      "outputs": [
        {
          "output_type": "execute_result",
          "data": {
            "text/plain": [
              "LogisticRegression()"
            ]
          },
          "metadata": {},
          "execution_count": 77
        }
      ]
    },
    {
      "cell_type": "markdown",
      "source": [
        "### Submeter teu resultado em Kaggle\n",
        "Apresentar seu resultado na plataforma kaggle é muito fácil, você pode gerar um arquivo .csv e submeter no kaggle. Esperamos que você continue trabalhando para melhorar seu resultado no leaderboard e compartilhe com todos nós. Ficaremos muito feliz :D!!!"
      ],
      "metadata": {
        "id": "Zioi08EM2qjY"
      }
    },
    {
      "cell_type": "code",
      "source": [
        "# Predição no conjunto de test\n",
        "predictions = model.predict(X_test)\n",
        "\n",
        "# Submission\n",
        "output = pd.DataFrame({'PassengerId': test_data.PassengerId, 'Survived': predictions})\n",
        "output.to_csv('submission.csv', index=False)\n",
        "print(\"Your submission was successfully saved!\")"
      ],
      "metadata": {
        "id": "jpptyeG9nGWL",
        "colab": {
          "base_uri": "https://localhost:8080/"
        },
        "outputId": "c02dccb0-f84b-4b62-fbb3-8944f32d3b54"
      },
      "execution_count": null,
      "outputs": [
        {
          "output_type": "stream",
          "name": "stdout",
          "text": [
            "Your submission was successfully saved!\n"
          ]
        }
      ]
    },
    {
      "cell_type": "markdown",
      "source": [
        "## Bora empregar um dos melhores frameworks de deep learning !!!\n",
        "Implementando Regressão Logistica em PyTorch"
      ],
      "metadata": {
        "id": "yFwNrh22Dvai"
      }
    },
    {
      "cell_type": "code",
      "source": [
        "import torch\n",
        "print(torch.__version__)\n",
        "print(torch.cuda.is_available())"
      ],
      "metadata": {
        "colab": {
          "base_uri": "https://localhost:8080/"
        },
        "id": "619ZEt7pDvqZ",
        "outputId": "19e990eb-3093-4713-8551-a08e80a4f746"
      },
      "execution_count": null,
      "outputs": [
        {
          "output_type": "stream",
          "name": "stdout",
          "text": [
            "1.10.0+cu111\n",
            "False\n"
          ]
        }
      ]
    },
    {
      "cell_type": "code",
      "source": [
        "# Numpy to pytorch\n",
        "# https://pytorch.org/docs/stable/generated/torch.from_numpy.html \n",
        "X_train_tensor = torch.from_numpy(X_train.to_numpy()).float()\n",
        "y_train_tensor = torch.from_numpy(y_train.to_numpy()).float()\n",
        "X_val_tensor   = torch.from_numpy(X_val.to_numpy()).float()\n",
        "y_val_tensor   = torch.from_numpy(y_val.to_numpy()).float()\n",
        "X_test_tensor  = torch.from_numpy(X_test.to_numpy()).float()\n",
        "\n",
        "print(X_train_tensor.__class__, X_train_tensor.shape)"
      ],
      "metadata": {
        "colab": {
          "base_uri": "https://localhost:8080/"
        },
        "id": "8sJthn8cDvyS",
        "outputId": "de45ffe9-e89b-4905-c076-9ed5c263f130"
      },
      "execution_count": null,
      "outputs": [
        {
          "output_type": "stream",
          "name": "stdout",
          "text": [
            "<class 'torch.Tensor'> torch.Size([623, 5])\n"
          ]
        }
      ]
    },
    {
      "cell_type": "code",
      "source": [
        "# Scalando a entrada \n",
        "def norm_scaling(x):\n",
        "  return (x - x.min()) / (x.max() - x.min())\n",
        "\n",
        "X_train_tensor  = norm_scaling(X_train_tensor)\n",
        "X_val_tensor    = norm_scaling(X_val_tensor)\n",
        "X_test_tensor   = norm_scaling(X_test_tensor)\n",
        "\n",
        "print(X_train_tensor.min(), X_train_tensor.max())"
      ],
      "metadata": {
        "colab": {
          "base_uri": "https://localhost:8080/"
        },
        "id": "a5Bb7uR3Dv0q",
        "outputId": "ccd01910-3762-4045-ad7b-6a85c452eef9"
      },
      "execution_count": null,
      "outputs": [
        {
          "output_type": "stream",
          "name": "stdout",
          "text": [
            "tensor(0.) tensor(1.)\n"
          ]
        }
      ]
    },
    {
      "cell_type": "markdown",
      "source": [
        "### Definição de um modelo em pytorch (modelo de neurônio)\n",
        "$$ \\hat{y} = h_{\\theta}(x)$$"
      ],
      "metadata": {
        "id": "RklQkSKnE2vv"
      }
    },
    {
      "cell_type": "code",
      "source": [
        "model = torch.nn.Sequential(\n",
        "    # Passo 15\n",
        "    ### COMENZAR O CODIGO AQUI ###\n",
        "    # Adiciona varias camadas\n",
        "    # https://pytorch.org/docs/stable/generated/torch.nn.Linear.html\n",
        "    torch.nn.Linear(len(features)+1, 2),\n",
        "    ### TERMINA AQUI ###\n",
        "    \n",
        "    # https://pytorch.org/docs/stable/generated/torch.nn.Softmax.html\n",
        "    torch.nn.Softmax(dim=1)\n",
        ")\n",
        "model"
      ],
      "metadata": {
        "colab": {
          "base_uri": "https://localhost:8080/"
        },
        "id": "vjz5EeRFE2T_",
        "outputId": "1528c0a4-3b6d-4b2d-dd31-2420727fd811"
      },
      "execution_count": null,
      "outputs": [
        {
          "output_type": "execute_result",
          "data": {
            "text/plain": [
              "Sequential(\n",
              "  (0): Linear(in_features=5, out_features=2, bias=True)\n",
              "  (1): Softmax(dim=1)\n",
              ")"
            ]
          },
          "metadata": {},
          "execution_count": 82
        }
      ]
    },
    {
      "cell_type": "markdown",
      "source": [
        "### Função de custo tambem conhosida como Cross Entropy Loss:\n",
        "$$J(\\theta) = - \\sum_{i=1}^m ( \\Pi_0 \\log( \\frac{e^{-X_i\\theta_1}}{\\sum_j e^{-X_i\\theta_j}}) - \\Pi_1 \\log( \\frac{e^{-X_i\\theta_2}}{\\sum_j e^{-X_i\\theta_j}}) )^2 $$"
      ],
      "metadata": {
        "id": "x6dBOHYUFeD8"
      }
    },
    {
      "cell_type": "code",
      "source": [
        "# Empregamos a função MSE de pytorch\n",
        "# https://pytorch.org/docs/stable/generated/torch.nn.CrossEntropyLoss.html\n",
        "Jbce = torch.nn.CrossEntropyLoss()"
      ],
      "metadata": {
        "id": "PIQ-1a0YDv26"
      },
      "execution_count": null,
      "outputs": []
    },
    {
      "cell_type": "markdown",
      "source": [
        "### Optimizador SGD "
      ],
      "metadata": {
        "id": "CYgqxDUkTzZE"
      }
    },
    {
      "cell_type": "code",
      "source": [
        "opt = torch.optim.SGD(model.parameters(), lr=1e-3, momentum=0.9)"
      ],
      "metadata": {
        "id": "CgAlkTDpTfT7"
      },
      "execution_count": null,
      "outputs": []
    },
    {
      "cell_type": "markdown",
      "source": [
        "### Trenamento do modelo"
      ],
      "metadata": {
        "id": "SNsTJTnITS2_"
      }
    },
    {
      "cell_type": "code",
      "source": [
        "iter_num = 100\n",
        "J_hist = []\n",
        "for t in range(iter_num):\n",
        "  \n",
        "  y_pred = model(X_train_tensor)\n",
        "  J = Jbce(y_pred, y_train_tensor.long())\n",
        "  \n",
        "  J_hist.append(J.item())\n",
        "  if t % 10 == 0:\n",
        "    print(t, J.item())\n",
        "\n",
        "  opt.zero_grad()\n",
        "  J.backward() # calculo da derivada\n",
        "  opt.step()\n"
      ],
      "metadata": {
        "colab": {
          "base_uri": "https://localhost:8080/"
        },
        "id": "42yXPLolTPmU",
        "outputId": "529cfa0c-af88-48f0-d281-b735132ec0a6"
      },
      "execution_count": null,
      "outputs": [
        {
          "output_type": "stream",
          "name": "stdout",
          "text": [
            "0 0.7281936407089233\n",
            "10 0.7275469303131104\n",
            "20 0.7263118028640747\n",
            "30 0.7248852849006653\n",
            "40 0.723406970500946\n",
            "50 0.7219259738922119\n",
            "60 0.7204598784446716\n",
            "70 0.7190148830413818\n",
            "80 0.7175934910774231\n",
            "90 0.7161970138549805\n"
          ]
        }
      ]
    },
    {
      "cell_type": "code",
      "source": [
        "# Visualização da função de custo\n",
        "plt.plot(J_hist)\n",
        "plt.plot()"
      ],
      "metadata": {
        "colab": {
          "base_uri": "https://localhost:8080/",
          "height": 285
        },
        "id": "XrfZWCUiTWFy",
        "outputId": "ba0b119a-72c7-40ab-9976-7f11f296dd14"
      },
      "execution_count": null,
      "outputs": [
        {
          "output_type": "execute_result",
          "data": {
            "text/plain": [
              "[]"
            ]
          },
          "metadata": {},
          "execution_count": 93
        },
        {
          "output_type": "display_data",
          "data": {
            "text/plain": [
              "<Figure size 1080x288 with 1 Axes>"
            ],
            "image/png": "[encoded data removed]"
          },
          "metadata": {}
        }
      ]
    },
    {
      "cell_type": "code",
      "source": [
        ""
      ],
      "metadata": {
        "id": "mKlMjZo9TWhE"
      },
      "execution_count": null,
      "outputs": []
    }
  ]
}